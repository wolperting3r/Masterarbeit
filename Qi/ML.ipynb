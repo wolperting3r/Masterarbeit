{
 "cells": [
  {
   "cell_type": "code",
   "execution_count": 1,
   "metadata": {},
   "outputs": [],
   "source": [
    "import pandas as pd\n",
    "import tensorflow as tf\n",
    "from tensorflow import keras\n",
    "from tensorflow.keras import layers\n",
    "import numpy as np\n",
    "import os\n",
    "np.set_printoptions(suppress=True,linewidth=250,threshold=250)"
   ]
  },
  {
   "cell_type": "code",
   "execution_count": 2,
   "metadata": {},
   "outputs": [],
   "source": [
    "def split_data(data, ratio):\n",
    "    '''\n",
    "    Create randomized train set and test set based on the ratio\n",
    "    ---\n",
    "    Input:\n",
    "        data[pd df]     data\n",
    "        ratio[int]      test:train ratio\n",
    "    Output:\n",
    "        testdata[pd df]\n",
    "        traindata[pd df]\n",
    "    '''\n",
    "    # Generate random indices\n",
    "    indices = np.random.permutation(len(data))\n",
    "    # Calculate how many entries the test data will have\n",
    "    test_size = int(len(data)*ratio)\n",
    "    # Get the test indices from the randomly generated indices\n",
    "    test_indices = indices[:test_size]\n",
    "    # Get the train indices from the randomly generated indices\n",
    "    train_indices = indices[test_size:]\n",
    "    # Return the data corresponding to the indices\n",
    "    return data.iloc[test_indices], data.iloc[train_indices]"
   ]
  },
  {
   "cell_type": "code",
   "execution_count": 3,
   "metadata": {},
   "outputs": [],
   "source": [
    "# Read own data\n",
    "data = pd.read_feather('data.feather')"
   ]
  },
  {
   "cell_type": "code",
   "execution_count": 4,
   "metadata": {},
   "outputs": [
    {
     "data": {
      "text/plain": [
       "\"\\ncsv_data = pd.read_csv('datafra.csv', names=['1', '2', '3', '4', '5', '6', '7', '8', '9']).reset_index()\\ncsv_labels = pd.read_csv('datacur.csv', names=['Curvature']).reset_index()\\ndata = csv_labels.merge(csv_data, on='index').drop(columns=['index'], axis=1)\\n#\""
      ]
     },
     "execution_count": 4,
     "metadata": {},
     "output_type": "execute_result"
    }
   ],
   "source": [
    "'''\n",
    "csv_data = pd.read_csv('datafra.csv', names=['1', '2', '3', '4', '5', '6', '7', '8', '9']).reset_index()\n",
    "csv_labels = pd.read_csv('datacur.csv', names=['Curvature']).reset_index()\n",
    "data = csv_labels.merge(csv_data, on='index').drop(columns=['index'], axis=1)\n",
    "#'''"
   ]
  },
  {
   "cell_type": "code",
   "execution_count": 4,
   "metadata": {},
   "outputs": [],
   "source": [
    "from sklearn.preprocessing import StandardScaler\n",
    "from sklearn.preprocessing import MinMaxScaler\n",
    "\n",
    "# Scale Data\n",
    "# scaler = StandardScaler()\n",
    "# data = pd.DataFrame(scaler.fit_transform(data))\n",
    "# Split data\n",
    "# test_set, train_set = split_data(data, 0.2)\n",
    "train_set = data.copy()\n",
    "test_set = data.copy()"
   ]
  },
  {
   "cell_type": "code",
   "execution_count": 5,
   "metadata": {},
   "outputs": [
    {
     "name": "stdout",
     "output_type": "stream",
     "text": [
      "Curvature    0.767562\n",
      "1            0.000000\n",
      "2            0.075000\n",
      "3            0.494000\n",
      "4            0.547800\n",
      "5            0.954900\n",
      "6            1.000000\n",
      "7            1.000000\n",
      "8            1.000000\n",
      "9            1.000000\n",
      "Name: 10000, dtype: float64\n"
     ]
    }
   ],
   "source": [
    "print(train_set.iloc[10000,:])"
   ]
  },
  {
   "cell_type": "code",
   "execution_count": 6,
   "metadata": {},
   "outputs": [],
   "source": [
    "# Split the training and test data into labels (first column) and data\n",
    "test_labels = np.round(test_set.iloc[:, 0].to_numpy(),3)\n",
    "test_data = np.round(test_set.iloc[:, 1:].to_numpy(),3)\n",
    "train_labels = np.round(train_set.iloc[:, 0].to_numpy(),3)\n",
    "train_data = np.round(train_set.iloc[:, 1:].to_numpy(),3)\n",
    "#train_data = np.reshape(train_data,(len(train_data),3,3))\n",
    "scaler = StandardScaler()\n",
    "train_labels=(train_labels-min(train_labels))/(max(train_labels)-min(train_labels))\n",
    "test_labels=(test_labels-min(train_labels))/(max(train_labels)-min(train_labels))"
   ]
  },
  {
   "cell_type": "code",
   "execution_count": 7,
   "metadata": {},
   "outputs": [
    {
     "name": "stdout",
     "output_type": "stream",
     "text": [
      "[0.75788436 0.75755585 0.75755585 ... 0.1435611  0.1435611  0.14388962]\n"
     ]
    }
   ],
   "source": [
    "print(train_labels)"
   ]
  },
  {
   "cell_type": "code",
   "execution_count": 8,
   "metadata": {},
   "outputs": [
    {
     "name": "stdout",
     "output_type": "stream",
     "text": [
      "(186912,)\n"
     ]
    }
   ],
   "source": [
    "print(train_labels.shape)"
   ]
  },
  {
   "cell_type": "code",
   "execution_count": 9,
   "metadata": {},
   "outputs": [
    {
     "name": "stdout",
     "output_type": "stream",
     "text": [
      "[[0.    0.    0.    ... 0.038 0.784 1.   ]\n",
      " [0.    0.    0.    ... 0.784 1.    1.   ]\n",
      " [0.    0.    0.    ... 1.    1.    1.   ]\n",
      " ...\n",
      " [0.    0.    0.    ... 1.    1.    1.   ]\n",
      " [0.    0.    0.004 ... 1.    1.    1.   ]\n",
      " [0.    0.004 0.034 ... 1.    1.    1.   ]]\n"
     ]
    }
   ],
   "source": [
    "print(train_data)"
   ]
  },
  {
   "cell_type": "code",
   "execution_count": 10,
   "metadata": {},
   "outputs": [
    {
     "name": "stdout",
     "output_type": "stream",
     "text": [
      "(186912, 9)\n"
     ]
    }
   ],
   "source": [
    "print(train_data.shape)"
   ]
  },
  {
   "cell_type": "code",
   "execution_count": 11,
   "metadata": {},
   "outputs": [
    {
     "data": {
      "image/png": "[encoded data removed]",
      "text/plain": [
       "<Figure size 432x288 with 1 Axes>"
      ]
     },
     "metadata": {
      "needs_background": "light"
     },
     "output_type": "display_data"
    }
   ],
   "source": [
    "import matplotlib.pyplot as plt\n",
    "pd.DataFrame(train_labels).hist(bins=100)\n",
    "plt.show()"
   ]
  },
  {
   "cell_type": "code",
   "execution_count": 13,
   "metadata": {},
   "outputs": [
    {
     "name": "stdout",
     "output_type": "stream",
     "text": [
      "Model: \"kerasmodel\"\n",
      "_________________________________________________________________\n",
      "Layer (type)                 Output Shape              Param #   \n",
      "=================================================================\n",
      "input_1 (InputLayer)         [(None, 9)]               0         \n",
      "_________________________________________________________________\n",
      "dense (Dense)                (None, 10)                100       \n",
      "_________________________________________________________________\n",
      "dense_1 (Dense)              (None, 10)                110       \n",
      "_________________________________________________________________\n",
      "dense_2 (Dense)              (None, 10)                110       \n",
      "_________________________________________________________________\n",
      "dense_3 (Dense)              (None, 1)                 11        \n",
      "=================================================================\n",
      "Total params: 331\n",
      "Trainable params: 331\n",
      "Non-trainable params: 0\n",
      "_________________________________________________________________\n"
     ]
    }
   ],
   "source": [
    "# Build keras model\n",
    "'''\n",
    "model = tf.keras.Sequential([\n",
    "    layers.Input(shape=(9,)),\n",
    "    layers.Dense(100, activation='relu'),\n",
    "    layers.Dense(1, activation='linear')\n",
    "])\n",
    "'''\n",
    "inputs = layers.Input(shape=(9,))\n",
    "#flatten = layers.Flatten()(inputs)\n",
    "dense1 = layers.Dense(10, activation='relu')(inputs)\n",
    "dense2 = layers.Dense(10, activation='relu')(dense1)\n",
    "dense3 = layers.Dense(10, activation='relu')(dense2)\n",
    "outputs = layers.Dense(1, activation='linear')(dense3)\n",
    "model = keras.Model(inputs=inputs, outputs=outputs, name='kerasmodel')\n",
    "model.summary()\n",
    "\n",
    "\n",
    "# Compile model\n",
    "#model.compile(optimizer=tf.keras.optimizers.Adam(learning_rate=0.001), loss='mse', metrics=['mae'])\n",
    "model.compile(optimizer=tf.keras.optimizers.Adam(learning_rate=0.001), loss='mse')"
   ]
  },
  {
   "cell_type": "code",
   "execution_count": 14,
   "metadata": {},
   "outputs": [
    {
     "name": "stderr",
     "output_type": "stream",
     "text": [
      "Using TensorFlow backend.\n"
     ]
    },
    {
     "data": {
      "application/vnd.jupyter.widget-view+json": {
       "model_id": "8f9dc4f7f4ec4e458277d52a5bd181a7",
       "version_major": 2,
       "version_minor": 0
      },
      "text/plain": [
       "HBox(children=(FloatProgress(value=1.0, bar_style='info', max=1.0), HTML(value='')))"
      ]
     },
     "metadata": {},
     "output_type": "display_data"
    },
    {
     "data": {
      "application/vnd.jupyter.widget-view+json": {
       "model_id": "",
       "version_major": 2,
       "version_minor": 0
      },
      "text/plain": [
       "HBox(children=(FloatProgress(value=1.0, bar_style='info', max=1.0), HTML(value='')))"
      ]
     },
     "metadata": {},
     "output_type": "display_data"
    },
    {
     "name": "stdout",
     "output_type": "stream",
     "text": [
      "\n"
     ]
    },
    {
     "data": {
      "text/plain": [
       "<tensorflow.python.keras.callbacks.History at 0x141312590>"
      ]
     },
     "execution_count": 14,
     "metadata": {},
     "output_type": "execute_result"
    }
   ],
   "source": [
    "from tqdm.keras import TqdmCallback\n",
    "# Fit Data\n",
    "model.fit(train_data, train_labels, verbose=0, callbacks=[TqdmCallback(verbose=1)], epochs=1000, batch_size=8192, validation_split=0.2)"
   ]
  },
  {
   "cell_type": "code",
   "execution_count": 15,
   "metadata": {},
   "outputs": [
    {
     "name": "stdout",
     "output_type": "stream",
     "text": [
      "[[0.50568134]]\n"
     ]
    }
   ],
   "source": [
    "print(model.predict(train_data[0:1]))"
   ]
  },
  {
   "cell_type": "code",
   "execution_count": 21,
   "metadata": {},
   "outputs": [
    {
     "name": "stdout",
     "output_type": "stream",
     "text": [
      "[0.50568134 0.51303154 0.51528704 ... 0.5055957  0.5056707  0.5050677 ]\n"
     ]
    }
   ],
   "source": [
    "#test_predictions = model.predict(test_data).flatten()\n",
    "train_predictions = model.predict(train_data).flatten()\n",
    "print(train_predictions)"
   ]
  },
  {
   "cell_type": "code",
   "execution_count": 22,
   "metadata": {},
   "outputs": [
    {
     "data": {
      "image/png": "[encoded data removed]",
      "text/plain": [
       "<Figure size 432x288 with 1 Axes>"
      ]
     },
     "metadata": {
      "needs_background": "light"
     },
     "output_type": "display_data"
    }
   ],
   "source": [
    "import matplotlib.pyplot as plt\n",
    "a = plt.axes(aspect='equal')\n",
    "#plt.scatter(test_labels, test_predictions)\n",
    "plt.scatter(train_labels, train_predictions)\n",
    "plt.xlabel('True Values [MPG]')\n",
    "plt.ylabel('Predictions [MPG]')\n",
    "lims = [-1, 1]\n",
    "plt.xlim(lims)\n",
    "plt.ylim(lims)\n",
    "_ = plt.plot(lims, lims)\n"
   ]
  },
  {
   "cell_type": "code",
   "execution_count": null,
   "metadata": {},
   "outputs": [],
   "source": []
  }
 ],
 "metadata": {
  "kernelspec": {
   "display_name": "Python 3",
   "language": "python",
   "name": "python3"
  },
  "language_info": {
   "codemirror_mode": {
    "name": "ipython",
    "version": 3
   },
   "file_extension": ".py",
   "mimetype": "text/x-python",
   "name": "python",
   "nbconvert_exporter": "python",
   "pygments_lexer": "ipython3",
   "version": "3.7.6"
  }
 },
 "nbformat": 4,
 "nbformat_minor": 2
}
