{
 "cells": [
  {
   "cell_type": "markdown",
   "metadata": {},
   "source": [
    "# Ergebnisse aus Paper"
   ]
  },
  {
   "cell_type": "code",
   "execution_count": 1,
   "metadata": {},
   "outputs": [],
   "source": [
    "import pandas as pd"
   ]
  },
  {
   "cell_type": "code",
   "execution_count": 23,
   "metadata": {},
   "outputs": [],
   "source": [
    "paper_data = pd.read_csv('datafra.csv')\n",
    "paper_labels = pd.read_csv('datacur.csv')"
   ]
  },
  {
   "cell_type": "code",
   "execution_count": 27,
   "metadata": {},
   "outputs": [
    {
     "data": {
      "text/html": [
       "<div>\n",
       "<style scoped>\n",
       "    .dataframe tbody tr th:only-of-type {\n",
       "        vertical-align: middle;\n",
       "    }\n",
       "\n",
       "    .dataframe tbody tr th {\n",
       "        vertical-align: top;\n",
       "    }\n",
       "\n",
       "    .dataframe thead th {\n",
       "        text-align: right;\n",
       "    }\n",
       "</style>\n",
       "<table border=\"1\" class=\"dataframe\">\n",
       "  <thead>\n",
       "    <tr style=\"text-align: right;\">\n",
       "      <th></th>\n",
       "      <th>0.22233</th>\n",
       "    </tr>\n",
       "  </thead>\n",
       "  <tbody>\n",
       "    <tr>\n",
       "      <th>count</th>\n",
       "      <td>188231.000000</td>\n",
       "    </tr>\n",
       "    <tr>\n",
       "      <th>mean</th>\n",
       "      <td>-0.000001</td>\n",
       "    </tr>\n",
       "    <tr>\n",
       "      <th>std</th>\n",
       "      <td>0.011805</td>\n",
       "    </tr>\n",
       "    <tr>\n",
       "      <th>min</th>\n",
       "      <td>-0.222330</td>\n",
       "    </tr>\n",
       "    <tr>\n",
       "      <th>25%</th>\n",
       "      <td>-0.001668</td>\n",
       "    </tr>\n",
       "    <tr>\n",
       "      <th>50%</th>\n",
       "      <td>-0.001053</td>\n",
       "    </tr>\n",
       "    <tr>\n",
       "      <th>75%</th>\n",
       "      <td>0.001668</td>\n",
       "    </tr>\n",
       "    <tr>\n",
       "      <th>max</th>\n",
       "      <td>0.222330</td>\n",
       "    </tr>\n",
       "  </tbody>\n",
       "</table>\n",
       "</div>"
      ],
      "text/plain": [
       "             0.22233\n",
       "count  188231.000000\n",
       "mean       -0.000001\n",
       "std         0.011805\n",
       "min        -0.222330\n",
       "25%        -0.001668\n",
       "50%        -0.001053\n",
       "75%         0.001668\n",
       "max         0.222330"
      ]
     },
     "execution_count": 27,
     "metadata": {},
     "output_type": "execute_result"
    }
   ],
   "source": [
    "paper_labels.describe()"
   ]
  },
  {
   "cell_type": "code",
   "execution_count": 33,
   "metadata": {},
   "outputs": [
    {
     "data": {
      "text/plain": [
       "array([ 0.22233  ,  0.15392  ,  0.11771  ,  0.095286 ,  0.08004  ,\n",
       "        0.069    ,  0.060636 ,  0.054081 ,  0.048805 ,  0.044467 ,\n",
       "        0.040837 ,  0.037755 ,  0.035105 ,  0.032803 ,  0.030785 ,\n",
       "        0.029    ,  0.027411 ,  0.025987 ,  0.024704 ,  0.023541 ,\n",
       "        0.022483 ,  0.021516 ,  0.020629 ,  0.019812 ,  0.019057 ,\n",
       "        0.018358 ,  0.017708 ,  0.017103 ,  0.016537 ,  0.016008 ,\n",
       "        0.015512 ,  0.015045 ,  0.014606 ,  0.014191 ,  0.0138   ,\n",
       "        0.01343  ,  0.013078 ,  0.012745 ,  0.012429 ,  0.012127 ,\n",
       "        0.01184  ,  0.011566 ,  0.011305 ,  0.011055 ,  0.010816 ,\n",
       "        0.010587 ,  0.010368 ,  0.010157 ,  0.00667  ,  0.0050025,\n",
       "        0.004002 ,  0.003335 ,  0.0028586,  0.0025013,  0.0022233,\n",
       "        0.002001 ,  0.0018191,  0.0016675,  0.0015392,  0.0014293,\n",
       "        0.001334 ,  0.0012506,  0.0011771,  0.0011117,  0.0010532,\n",
       "       -0.22233  , -0.15392  , -0.11771  , -0.095286 , -0.08004  ,\n",
       "       -0.069    , -0.060636 , -0.054081 , -0.048805 , -0.044467 ,\n",
       "       -0.040837 , -0.037755 , -0.035105 , -0.032803 , -0.030785 ,\n",
       "       -0.029    , -0.027411 , -0.025987 , -0.024704 , -0.023541 ,\n",
       "       -0.022483 , -0.021516 , -0.020629 , -0.019812 , -0.019057 ,\n",
       "       -0.018358 , -0.017708 , -0.017103 , -0.016537 , -0.016008 ,\n",
       "       -0.015512 , -0.015045 , -0.014606 , -0.014191 , -0.0138   ,\n",
       "       -0.01343  , -0.013078 , -0.012745 , -0.012429 , -0.012127 ,\n",
       "       -0.01184  , -0.011566 , -0.011305 , -0.011055 , -0.010816 ,\n",
       "       -0.010587 , -0.010368 , -0.010157 , -0.00667  , -0.0050025,\n",
       "       -0.004002 , -0.003335 , -0.0028586, -0.0025013, -0.0022233,\n",
       "       -0.002001 , -0.0018191, -0.0016675, -0.0015392, -0.0014293,\n",
       "       -0.001334 , -0.0012506, -0.0011771, -0.0011117, -0.0010532])"
      ]
     },
     "execution_count": 33,
     "metadata": {},
     "output_type": "execute_result"
    }
   ],
   "source": [
    "paper_labels.iloc[:,0].unique()"
   ]
  },
  {
   "cell_type": "code",
   "execution_count": 35,
   "metadata": {},
   "outputs": [
    {
     "data": {
      "image/png": "[encoded data removed]",
      "text/plain": [
       "<Figure size 432x288 with 1 Axes>"
      ]
     },
     "metadata": {
      "needs_background": "light"
     },
     "output_type": "display_data"
    }
   ],
   "source": [
    "import matplotlib.pyplot as plt\n",
    "paper_labels.hist(bins=100)\n",
    "plt.show()"
   ]
  },
  {
   "cell_type": "markdown",
   "metadata": {},
   "source": [
    "# Eigener Code"
   ]
  },
  {
   "cell_type": "code",
   "execution_count": 51,
   "metadata": {},
   "outputs": [],
   "source": [
    "feather = pd.read_feather('data.feather')"
   ]
  },
  {
   "cell_type": "code",
   "execution_count": 52,
   "metadata": {},
   "outputs": [
    {
     "data": {
      "text/html": [
       "<div>\n",
       "<style scoped>\n",
       "    .dataframe tbody tr th:only-of-type {\n",
       "        vertical-align: middle;\n",
       "    }\n",
       "\n",
       "    .dataframe tbody tr th {\n",
       "        vertical-align: top;\n",
       "    }\n",
       "\n",
       "    .dataframe thead th {\n",
       "        text-align: right;\n",
       "    }\n",
       "</style>\n",
       "<table border=\"1\" class=\"dataframe\">\n",
       "  <thead>\n",
       "    <tr style=\"text-align: right;\">\n",
       "      <th></th>\n",
       "      <th>Curvature</th>\n",
       "      <th>1</th>\n",
       "      <th>2</th>\n",
       "      <th>3</th>\n",
       "      <th>4</th>\n",
       "      <th>5</th>\n",
       "      <th>6</th>\n",
       "      <th>7</th>\n",
       "      <th>8</th>\n",
       "      <th>9</th>\n",
       "    </tr>\n",
       "  </thead>\n",
       "  <tbody>\n",
       "    <tr>\n",
       "      <th>count</th>\n",
       "      <td>1.869120e+05</td>\n",
       "      <td>186912.000000</td>\n",
       "      <td>186912.000000</td>\n",
       "      <td>186912.000000</td>\n",
       "      <td>186912.000000</td>\n",
       "      <td>186912.000000</td>\n",
       "      <td>186912.000000</td>\n",
       "      <td>186912.000000</td>\n",
       "      <td>186912.000000</td>\n",
       "      <td>186912.000000</td>\n",
       "    </tr>\n",
       "    <tr>\n",
       "      <th>mean</th>\n",
       "      <td>2.851112e-20</td>\n",
       "      <td>0.500000</td>\n",
       "      <td>0.500000</td>\n",
       "      <td>0.500000</td>\n",
       "      <td>0.500000</td>\n",
       "      <td>0.500000</td>\n",
       "      <td>0.500000</td>\n",
       "      <td>0.500000</td>\n",
       "      <td>0.500000</td>\n",
       "      <td>0.500000</td>\n",
       "    </tr>\n",
       "    <tr>\n",
       "      <th>std</th>\n",
       "      <td>1.188334e-02</td>\n",
       "      <td>0.460337</td>\n",
       "      <td>0.430194</td>\n",
       "      <td>0.460283</td>\n",
       "      <td>0.430194</td>\n",
       "      <td>0.344118</td>\n",
       "      <td>0.430245</td>\n",
       "      <td>0.460283</td>\n",
       "      <td>0.430245</td>\n",
       "      <td>0.460258</td>\n",
       "    </tr>\n",
       "    <tr>\n",
       "      <th>min</th>\n",
       "      <td>-2.223334e-01</td>\n",
       "      <td>0.000000</td>\n",
       "      <td>0.000000</td>\n",
       "      <td>0.000000</td>\n",
       "      <td>0.000000</td>\n",
       "      <td>0.000100</td>\n",
       "      <td>0.000000</td>\n",
       "      <td>0.000000</td>\n",
       "      <td>0.000000</td>\n",
       "      <td>0.000000</td>\n",
       "    </tr>\n",
       "    <tr>\n",
       "      <th>25%</th>\n",
       "      <td>-1.667500e-03</td>\n",
       "      <td>0.000000</td>\n",
       "      <td>0.000000</td>\n",
       "      <td>0.000000</td>\n",
       "      <td>0.000000</td>\n",
       "      <td>0.165000</td>\n",
       "      <td>0.000000</td>\n",
       "      <td>0.000000</td>\n",
       "      <td>0.000000</td>\n",
       "      <td>0.000000</td>\n",
       "    </tr>\n",
       "    <tr>\n",
       "      <th>50%</th>\n",
       "      <td>0.000000e+00</td>\n",
       "      <td>0.500000</td>\n",
       "      <td>0.500000</td>\n",
       "      <td>0.500000</td>\n",
       "      <td>0.500000</td>\n",
       "      <td>0.500000</td>\n",
       "      <td>0.500000</td>\n",
       "      <td>0.500000</td>\n",
       "      <td>0.500000</td>\n",
       "      <td>0.500000</td>\n",
       "    </tr>\n",
       "    <tr>\n",
       "      <th>75%</th>\n",
       "      <td>1.667500e-03</td>\n",
       "      <td>1.000000</td>\n",
       "      <td>1.000000</td>\n",
       "      <td>1.000000</td>\n",
       "      <td>1.000000</td>\n",
       "      <td>0.835000</td>\n",
       "      <td>1.000000</td>\n",
       "      <td>1.000000</td>\n",
       "      <td>1.000000</td>\n",
       "      <td>1.000000</td>\n",
       "    </tr>\n",
       "    <tr>\n",
       "      <th>max</th>\n",
       "      <td>2.223334e-01</td>\n",
       "      <td>1.000000</td>\n",
       "      <td>1.000000</td>\n",
       "      <td>1.000000</td>\n",
       "      <td>1.000000</td>\n",
       "      <td>0.999900</td>\n",
       "      <td>1.000000</td>\n",
       "      <td>1.000000</td>\n",
       "      <td>1.000000</td>\n",
       "      <td>1.000000</td>\n",
       "    </tr>\n",
       "  </tbody>\n",
       "</table>\n",
       "</div>"
      ],
      "text/plain": [
       "          Curvature              1              2              3  \\\n",
       "count  1.869120e+05  186912.000000  186912.000000  186912.000000   \n",
       "mean   2.851112e-20       0.500000       0.500000       0.500000   \n",
       "std    1.188334e-02       0.460337       0.430194       0.460283   \n",
       "min   -2.223334e-01       0.000000       0.000000       0.000000   \n",
       "25%   -1.667500e-03       0.000000       0.000000       0.000000   \n",
       "50%    0.000000e+00       0.500000       0.500000       0.500000   \n",
       "75%    1.667500e-03       1.000000       1.000000       1.000000   \n",
       "max    2.223334e-01       1.000000       1.000000       1.000000   \n",
       "\n",
       "                   4              5              6              7  \\\n",
       "count  186912.000000  186912.000000  186912.000000  186912.000000   \n",
       "mean        0.500000       0.500000       0.500000       0.500000   \n",
       "std         0.430194       0.344118       0.430245       0.460283   \n",
       "min         0.000000       0.000100       0.000000       0.000000   \n",
       "25%         0.000000       0.165000       0.000000       0.000000   \n",
       "50%         0.500000       0.500000       0.500000       0.500000   \n",
       "75%         1.000000       0.835000       1.000000       1.000000   \n",
       "max         1.000000       0.999900       1.000000       1.000000   \n",
       "\n",
       "                   8              9  \n",
       "count  186912.000000  186912.000000  \n",
       "mean        0.500000       0.500000  \n",
       "std         0.430245       0.460258  \n",
       "min         0.000000       0.000000  \n",
       "25%         0.000000       0.000000  \n",
       "50%         0.500000       0.500000  \n",
       "75%         1.000000       1.000000  \n",
       "max         1.000000       1.000000  "
      ]
     },
     "execution_count": 52,
     "metadata": {},
     "output_type": "execute_result"
    }
   ],
   "source": [
    "feather.describe()"
   ]
  },
  {
   "cell_type": "code",
   "execution_count": 53,
   "metadata": {},
   "outputs": [],
   "source": [
    "own_labels = feather.iloc[:,0]\n",
    "own_data = feather.iloc[:,1:]"
   ]
  },
  {
   "cell_type": "code",
   "execution_count": 57,
   "metadata": {},
   "outputs": [
    {
     "data": {
      "text/plain": [
       "array([ 0.2223334,  0.1539231,  0.1177059,  0.0952857,  0.08004  ,\n",
       "        0.069    ,  0.0606364,  0.0540811,  0.0488049,  0.0444667,\n",
       "        0.0408367,  0.0377547,  0.0351053,  0.0328033,  0.0307846,\n",
       "        0.029    ,  0.027411 ,  0.025987 ,  0.0247037,  0.0235412,\n",
       "        0.0224832,  0.0215161,  0.0206289,  0.0198119,  0.0190571,\n",
       "        0.0183578,  0.017708 ,  0.0171026,  0.0165372,  0.016008 ,\n",
       "        0.0155116,  0.0150451,  0.0146058,  0.0141915,  0.0138   ,\n",
       "        0.0134295,  0.0130784,  0.0127452,  0.0124286,  0.0121273,\n",
       "        0.0118402,  0.0115665,  0.0113051,  0.0110553,  0.0108162,\n",
       "        0.0105873,  0.0103679,  0.0101574,  0.00667  ,  0.0050025,\n",
       "        0.004002 ,  0.003335 ,  0.0028586,  0.0025013,  0.0022233,\n",
       "        0.002001 ,  0.0018191,  0.0016675,  0.0015392,  0.0014293,\n",
       "        0.001334 ,  0.0012506,  0.0011771,  0.0011117,  0.0010532,\n",
       "       -0.2223334, -0.1539231, -0.1177059, -0.0952857, -0.08004  ,\n",
       "       -0.069    , -0.0606364, -0.0540811, -0.0488049, -0.0444667,\n",
       "       -0.0408367, -0.0377547, -0.0351053, -0.0328033, -0.0307846,\n",
       "       -0.029    , -0.027411 , -0.025987 , -0.0247037, -0.0235412,\n",
       "       -0.0224832, -0.0215161, -0.0206289, -0.0198119, -0.0190571,\n",
       "       -0.0183578, -0.017708 , -0.0171026, -0.0165372, -0.016008 ,\n",
       "       -0.0155116, -0.0150451, -0.0146058, -0.0141915, -0.0138   ,\n",
       "       -0.0134295, -0.0130784, -0.0127452, -0.0124286, -0.0121273,\n",
       "       -0.0118402, -0.0115665, -0.0113051, -0.0110553, -0.0108162,\n",
       "       -0.0105873, -0.0103679, -0.0101574, -0.00667  , -0.0050025,\n",
       "       -0.004002 , -0.003335 , -0.0028586, -0.0025013, -0.0022233,\n",
       "       -0.002001 , -0.0018191, -0.0016675, -0.0015392, -0.0014293,\n",
       "       -0.001334 , -0.0012506, -0.0011771, -0.0011117, -0.0010532])"
      ]
     },
     "execution_count": 57,
     "metadata": {},
     "output_type": "execute_result"
    }
   ],
   "source": [
    "np.round(own_labels.unique(),7)"
   ]
  },
  {
   "cell_type": "code",
   "execution_count": null,
   "metadata": {},
   "outputs": [],
   "source": []
  }
 ],
 "metadata": {
  "kernelspec": {
   "display_name": "Python 3",
   "language": "python",
   "name": "python3"
  },
  "language_info": {
   "codemirror_mode": {
    "name": "ipython",
    "version": 3
   },
   "file_extension": ".py",
   "mimetype": "text/x-python",
   "name": "python",
   "nbconvert_exporter": "python",
   "pygments_lexer": "ipython3",
   "version": "3.7.6"
  }
 },
 "nbformat": 4,
 "nbformat_minor": 2
}
