{
 "cells": [
  {
   "cell_type": "code",
   "execution_count": 101,
   "metadata": {},
   "outputs": [],
   "source": [
    "import os\n",
    "import sys\n",
    "basepath = '/' + os.path.join('Users', 'zach', 'Git', 'Masterarbeit', 'Project')\n",
    "sys.path.append(basepath)"
   ]
  },
  {
   "cell_type": "code",
   "execution_count": 102,
   "metadata": {},
   "outputs": [],
   "source": [
    "import pandas as pd\n",
    "import numpy as np\n",
    "import matplotlib.pyplot as plt\n",
    "from scipy import ndimage, signal\n",
    "\n",
    "# Enable full width output for numpy (https://stackoverflow.com/questions/43514106/python-terminal-output-width)\n",
    "np.set_printoptions(suppress=True, linewidth=250, threshold=250)\n",
    "\n",
    "from src.ml.training import load_model\n",
    "from sklearn.pipeline import Pipeline\n",
    "from src.d.transformators import TransformData, FindGradient, FindAngle, Rotate, CDS, HF, TwoLayers, Edge"
   ]
  },
  {
   "cell_type": "code",
   "execution_count": 103,
   "metadata": {},
   "outputs": [],
   "source": [
    "# file_name = os.path.join(basepath, 'data', 'datasets', 'data_7x7_eqk_neg_sin_smr_shift1_n.feather')\n",
    "file_name = os.path.join(basepath, 'data', 'datasets', 'data_7x7_eqk_neg_ell_nsm.feather')\n",
    "data = np.array(pd.read_feather(file_name))\n",
    "data = data[:1000]\n",
    "kappa = data[:, 1]\n",
    "concentration = data[:, 1:]\n",
    "concentration = np.reshape(concentration, (concentration.shape[0], 7, 7))"
   ]
  },
  {
   "cell_type": "code",
   "execution_count": 104,
   "metadata": {},
   "outputs": [],
   "source": [
    "def make_stencil(factor):\n",
    "    kernel_st = np.array(\n",
    "        [[[0, 1, 0],\n",
    "          [1, 2, 1],\n",
    "          [0, 1, 0]]]\n",
    "    )\n",
    "    kernel_st = kernel_st/np.sum(kernel_st)\n",
    "\n",
    "    stencils = concentration.copy()\n",
    "    for i in range(int(np.floor(factor))):\n",
    "        stencils = ndimage.convolve(stencils, kernel_st, mode='reflect')\n",
    "    rest = factor - np.floor(factor) \n",
    "    stencils = rest*ndimage.convolve(stencils, kernel_st, mode='reflect') + (1-rest)*stencils\n",
    "    return stencils"
   ]
  },
  {
   "cell_type": "code",
   "execution_count": 105,
   "metadata": {},
   "outputs": [],
   "source": [
    "def sharpening(stencil, radius, amount):\n",
    "    kernel = np.array(\n",
    "        [[[1, 2, 1],\n",
    "         [2, 4, 2],\n",
    "         [1, 2, 1]]]\n",
    "    )\n",
    "    kernel = kernel/np.sum(kernel)\n",
    "    check_kernel = np.array(\n",
    "        [[[0, 1, 0],\n",
    "         [1, 0, 1],\n",
    "         [0, 1, 0]]]\n",
    "    )\n",
    "    \n",
    "    sharpened = stencil.copy()\n",
    "    \n",
    "    mask = np.where(((sharpened > 0) & (sharpened < 1)), 1, 0)\n",
    "    mask_conv = ndimage.convolve(mask, check_kernel, mode='constant', cval=0)\n",
    "    mask_index = np.argwhere(np.amax(mask_conv, axis=(1, 2)) > 3)[:, 0]\n",
    "    mask_max = mask_conv.max()\n",
    "    \n",
    "    while mask_max > 3:\n",
    "        \n",
    "        unsharp_mask = ndimage.convolve(sharpened, kernel, mode='reflect')\n",
    "        # unsharp_mask = signal.convolve(unsharp_mask, kernel, mode='same')\n",
    "        \n",
    "        difference = sharpened - unsharp_mask\n",
    "        sharpened[mask_index, :, :] = np.clip(sharpened[mask_index, :, :] + difference[mask_index, :, :]*amount, a_min=0.0, a_max=1.0)\n",
    "        \n",
    "        mask = np.where(((sharpened > 0) & (sharpened < 1)), 1, 0)\n",
    "        mask_conv = ndimage.convolve(mask, check_kernel, mode='constant', cval=0)\n",
    "        mask_index = np.argwhere(np.amax(mask_conv, axis=(1, 2)) > 3)[:, 0]\n",
    "        # mask_conv = signal.convolve(mask, check_kernel, mode='same')\n",
    "        mask_max = mask_conv.max()\n",
    "    return sharpened"
   ]
  },
  {
   "cell_type": "code",
   "execution_count": 106,
   "metadata": {},
   "outputs": [
    {
     "data": {
      "image/png": "[encoded data removed]",
      "text/plain": [
       "<Figure size 432x288 with 1 Axes>"
      ]
     },
     "metadata": {
      "needs_background": "light"
     },
     "output_type": "display_data"
    },
    {
     "name": "stdout",
     "output_type": "stream",
     "text": [
      "[[1.         1.         1.         1.         1.         1.         1.        ]\n",
      " [1.         1.         1.         1.         1.         1.         1.        ]\n",
      " [1.         1.         1.         0.97900391 0.89648437 0.85823568 0.8585612 ]\n",
      " [1.         1.         0.95654297 0.70166016 0.46354167 0.30485026 0.2672526 ]\n",
      " [1.         0.97753906 0.68391927 0.31754557 0.07698568 0.02490234 0.02522786]\n",
      " [1.         0.86051432 0.40820312 0.06217448 0.         0.         0.        ]\n",
      " [0.97884115 0.77050781 0.19580078 0.00065104 0.         0.         0.        ]]\n"
     ]
    },
    {
     "data": {
      "image/png": "[encoded data removed]",
      "text/plain": [
       "<Figure size 432x288 with 1 Axes>"
      ]
     },
     "metadata": {
      "needs_background": "light"
     },
     "output_type": "display_data"
    },
    {
     "name": "stdout",
     "output_type": "stream",
     "text": [
      "[[1.         1.         1.         1.         1.         1.         1.        ]\n",
      " [1.         1.         1.         1.         1.         1.         1.        ]\n",
      " [1.         1.         1.         1.         0.95734585 0.93675252 0.95467263]\n",
      " [1.         1.         1.         0.71917711 0.43494082 0.22892863 0.1885502 ]\n",
      " [1.         1.         0.6978415  0.2645365  0.         0.         0.        ]\n",
      " [1.         0.92289973 0.36956361 0.         0.         0.         0.        ]\n",
      " [1.         0.8291167  0.08382055 0.         0.         0.         0.        ]]\n"
     ]
    },
    {
     "data": {
      "image/png": "[encoded data removed]",
      "text/plain": [
       "<Figure size 432x288 with 1 Axes>"
      ]
     },
     "metadata": {
      "needs_background": "light"
     },
     "output_type": "display_data"
    },
    {
     "name": "stdout",
     "output_type": "stream",
     "text": [
      "[[1.         1.         0.9995072  0.99650065 0.99190116 0.98878536 0.98809061]\n",
      " [1.         0.99900083 0.99058175 0.97073779 0.94595601 0.92890082 0.92241   ]\n",
      " [0.99898727 0.98671996 0.94486642 0.8708466  0.79283613 0.73952456 0.71766192]\n",
      " [0.98922541 0.94233383 0.8259963  0.66512873 0.51883726 0.42847584 0.39201072]\n",
      " [0.96111307 0.85768561 0.65153974 0.42042523 0.25120262 0.16383343 0.13402944]\n",
      " [0.9186861  0.75982515 0.48433431 0.23291242 0.09149697 0.03907757 0.02628505]\n",
      " [0.88493893 0.69270381 0.38474603 0.13888814 0.03120931 0.00543514 0.00275412]]\n"
     ]
    },
    {
     "data": {
      "image/png": "[encoded data removed]",
      "text/plain": [
       "<Figure size 432x288 with 1 Axes>"
      ]
     },
     "metadata": {
      "needs_background": "light"
     },
     "output_type": "display_data"
    },
    {
     "name": "stdout",
     "output_type": "stream",
     "text": [
      "[[1.         1.         1.         1.         1.         1.         1.        ]\n",
      " [1.         1.         1.         1.         1.         1.         1.        ]\n",
      " [1.         1.         1.         1.         0.96037877 0.91664953 0.92544706]\n",
      " [1.         1.         0.98513082 0.70262211 0.42254757 0.27149459 0.22451316]\n",
      " [1.         1.         0.67981547 0.25470225 0.         0.         0.        ]\n",
      " [1.         0.91204951 0.35426553 0.         0.         0.         0.        ]\n",
      " [1.         0.79210509 0.14369107 0.         0.         0.         0.        ]]\n"
     ]
    }
   ],
   "source": [
    "stencil = make_stencil(1)\n",
    "sharpened = sharpening(stencil, radius=2, amount=0.1)\n",
    "\n",
    "index = 1\n",
    "plt.imshow(stencil[index], cmap='gray')\n",
    "plt.show()\n",
    "print(stencil[index])\n",
    "\n",
    "plt.imshow(sharpened[index], cmap='gray')\n",
    "plt.show()\n",
    "print(sharpened[index])\n",
    "\n",
    "stencil = make_stencil(4)\n",
    "sharpened = sharpening(stencil, radius=2, amount=0.1)\n",
    "\n",
    "plt.imshow(stencil[index], cmap='gray')\n",
    "plt.show()\n",
    "print(stencil[index])\n",
    "\n",
    "plt.imshow(sharpened[index], cmap='gray')\n",
    "plt.show()\n",
    "print(sharpened[index])"
   ]
  },
  {
   "cell_type": "code",
   "execution_count": null,
   "metadata": {},
   "outputs": [],
   "source": []
  },
  {
   "cell_type": "code",
   "execution_count": null,
   "metadata": {},
   "outputs": [],
   "source": []
  }
 ],
 "metadata": {
  "kernelspec": {
   "display_name": "Python 3",
   "language": "python",
   "name": "python3"
  },
  "language_info": {
   "codemirror_mode": {
    "name": "ipython",
    "version": 3
   },
   "file_extension": ".py",
   "mimetype": "text/x-python",
   "name": "python",
   "nbconvert_exporter": "python",
   "pygments_lexer": "ipython3",
   "version": "3.8.5"
  }
 },
 "nbformat": 4,
 "nbformat_minor": 4
}
