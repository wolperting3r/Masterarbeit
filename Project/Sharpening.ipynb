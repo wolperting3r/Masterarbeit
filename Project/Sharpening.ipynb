{
 "cells": [
  {
   "cell_type": "code",
   "execution_count": 1,
   "metadata": {},
   "outputs": [],
   "source": [
    "import os\n",
    "import sys\n",
    "basepath = '/' + os.path.join('Users', 'zach', 'Git', 'Masterarbeit', 'Project')\n",
    "sys.path.append(basepath)"
   ]
  },
  {
   "cell_type": "code",
   "execution_count": 2,
   "metadata": {},
   "outputs": [],
   "source": [
    "import pandas as pd\n",
    "import numpy as np\n",
    "import matplotlib.pyplot as plt\n",
    "from scipy import ndimage, signal\n",
    "\n",
    "# Enable full width output for numpy (https://stackoverflow.com/questions/43514106/python-terminal-output-width)\n",
    "np.set_printoptions(suppress=True, linewidth=250, threshold=250)\n",
    "\n",
    "from src.ml.training import load_model\n",
    "from sklearn.pipeline import Pipeline\n",
    "from src.d.transformators import TransformData, FindGradient, FindAngle, Rotate, CDS, HF, TwoLayers, Edge, UnsharpMask, Shift"
   ]
  },
  {
   "cell_type": "code",
   "execution_count": 3,
   "metadata": {},
   "outputs": [],
   "source": [
    "# file_name = os.path.join(basepath, 'data', 'datasets', 'data_7x7_eqk_neg_sin_smr_shift1_n.feather')\n",
    "file_name = os.path.join(basepath, 'data', 'datasets', 'data_7x7_eqk_neg_ell_nsm.feather')\n",
    "data_orig = np.array(pd.read_feather(file_name))\n",
    "data_orig = data_orig[:1000]\n",
    "kappa = data_orig[:, 1]\n",
    "concentration = data_orig[:, 1:]\n",
    "concentration = np.reshape(concentration, (concentration.shape[0], 7, 7))"
   ]
  },
  {
   "cell_type": "code",
   "execution_count": 4,
   "metadata": {},
   "outputs": [],
   "source": [
    "def make_stencil(factor, concentration):\n",
    "    kernel_st = np.array(\n",
    "        [[[0, 1, 0],\n",
    "          [1, 2, 1],\n",
    "          [0, 1, 0]]]\n",
    "    )\n",
    "    kernel_st = kernel_st/np.sum(kernel_st)\n",
    "\n",
    "    stencils = concentration.copy()\n",
    "    for i in range(int(np.floor(factor))):\n",
    "        stencils = ndimage.convolve(stencils, kernel_st, mode='reflect')\n",
    "    rest = factor - np.floor(factor) \n",
    "    stencils = rest*ndimage.convolve(stencils, kernel_st, mode='reflect') + (1-rest)*stencils\n",
    "    return stencils"
   ]
  },
  {
   "cell_type": "code",
   "execution_count": 5,
   "metadata": {},
   "outputs": [],
   "source": [
    "def sharpening(input_stencil, radius, amount):\n",
    "    stencil = input_stencil.copy()\n",
    "    check_kernel = np.array(\n",
    "        [[[0, 1, 0],\n",
    "         [1, 0, 1],\n",
    "         [0, 1, 0]]]\n",
    "    )\n",
    "    \n",
    "     # Initialize kernel for unsharp mask\n",
    "    # '''\n",
    "    kernel_mask = np.array([[\n",
    "        [1, 2, 1],\n",
    "        [2, 4, 2],\n",
    "        [1, 2, 1]\n",
    "    ]])\n",
    "    '''\n",
    "    kernel_mask = np.array(\n",
    "        [[[0, 1, 0],\n",
    "         [1, 4, 1],\n",
    "         [0, 1, 0]]]\n",
    "    )\n",
    "    # '''\n",
    "    kernel_mask = kernel_mask/np.sum(kernel_mask)\n",
    "    # Initialize kernel for check mask\n",
    "    kernel_check = np.array([[\n",
    "        [0, 1, 0],\n",
    "        [1, 0, 1],\n",
    "        [0, 1, 0]\n",
    "    ]])\n",
    "\n",
    "    # Get mask: 1 where 0 < data < 1, else 0\n",
    "    mask = np.where(((stencil > 0.0) & (stencil < 1.0)), 1, 0)\n",
    "    # Convolve mask with check kernel to count neighbours where mask = 1\n",
    "    mask_conv = ndimage.convolve(mask, kernel_check, mode='constant', cval=0.0)\n",
    "    # Get indices where the stencil still has cells with more than 3 neighbours being between 0 and 1\n",
    "    mask_index = np.argwhere(np.amax(mask_conv, axis=(1, 2)) > 3)[:, 0]\n",
    "    # Get maximum neighbour count of every stencil\n",
    "    mask_max = mask_conv.max()\n",
    "\n",
    "    # '''\n",
    "    # Calculate unsharp mask for unsharp masking\n",
    "    unsharp_mask = ndimage.convolve(stencil, kernel_mask, mode='reflect')\n",
    "    # '''\n",
    "    '''\n",
    "    # Calculate difference between data and unsharp mask for unsharp masking\n",
    "    difference = data - unsharp_mask\n",
    "    # '''\n",
    "    # Initialize counter\n",
    "    counter = 0\n",
    "    # Repeat until every stencil is sharpened to a degree where no cell has more than 3 neighbours being between 0 and 1\n",
    "    while mask_max > 3:\n",
    "        '''\n",
    "        # Calculate unsharp mask for unsharp masking every step\n",
    "        unsharp_mask = ndimage.convolve(stencil, kernel_mask, mode='reflect')\n",
    "        # '''\n",
    "        # '''\n",
    "        # Calculate difference between data and unsharp mask for unsharp masking\n",
    "        difference = stencil - unsharp_mask\n",
    "        # '''\n",
    "        # Do unsharp masking in every stencil that still does not meet the requirement of containing only cells with 3 or less neighbours between 0 and 1\n",
    "        stencil[mask_index, :, :] = np.round(np.clip((stencil[mask_index, :, :] + difference[mask_index, :, :]*amount), a_min=0, a_max=1), 6)\n",
    "\n",
    "        # Get mask: 1 where 0 < data < 1, else 0\n",
    "        mask = np.where(((stencil > 0.0) & (stencil < 1.0)), 1, 0)\n",
    "        # Convolve mask with check kernel to count neighbours where mask = 1\n",
    "        mask_conv = ndimage.convolve(mask, kernel_check, mode='constant', cval=0.0)\n",
    "        # Get indices where the stencil still has cells with more than 3 neighbours being between 0 and 1\n",
    "        mask_index = np.argwhere(np.amax(mask_conv, axis=(1, 2)) > 3)[:, 0]\n",
    "        # Get maximum neighbour count of every stencil\n",
    "        mask_max = mask_conv.max()\n",
    "\n",
    "        # Count so it does not get stuck inside this loop\n",
    "        counter = counter + 1\n",
    "        if counter > 250:\n",
    "            print('Interface reconstruction: max number of steps exceeded')\n",
    "            break\n",
    "    plt.bar(range(mask_conv.shape[0]), np.amax(mask_conv, axis=(1, 2)))\n",
    "    plt.show()\n",
    "    print(f'counter:\\t{counter}')\n",
    "       \n",
    "    return stencil"
   ]
  },
  {
   "cell_type": "code",
   "execution_count": 6,
   "metadata": {},
   "outputs": [
    {
     "name": "stdout",
     "output_type": "stream",
     "text": [
      "(1000, 7, 7)\n"
     ]
    },
    {
     "data": {
      "image/png": "[encoded data removed]",
      "text/plain": [
       "<Figure size 432x288 with 1 Axes>"
      ]
     },
     "metadata": {
      "needs_background": "light"
     },
     "output_type": "display_data"
    },
    {
     "name": "stdout",
     "output_type": "stream",
     "text": [
      "counter:\t12\n"
     ]
    },
    {
     "data": {
      "image/png": "[encoded data removed]",
      "text/plain": [
       "<Figure size 432x288 with 1 Axes>"
      ]
     },
     "metadata": {
      "needs_background": "light"
     },
     "output_type": "display_data"
    },
    {
     "name": "stdout",
     "output_type": "stream",
     "text": [
      "[[1.         1.         1.         1.         1.         1.         1.        ]\n",
      " [1.         1.         1.         1.         1.         1.         1.        ]\n",
      " [1.         1.         1.         0.97900391 0.89648437 0.85823568 0.8585612 ]\n",
      " [1.         1.         0.95654297 0.70166016 0.46354167 0.30485026 0.2672526 ]\n",
      " [1.         0.97753906 0.68391927 0.31754557 0.07698568 0.02490234 0.02522786]\n",
      " [1.         0.86051432 0.40820312 0.06217448 0.         0.         0.        ]\n",
      " [0.97884115 0.77050781 0.19580078 0.00065104 0.         0.         0.        ]]\n"
     ]
    },
    {
     "data": {
      "image/png": "[encoded data removed]",
      "text/plain": [
       "<Figure size 432x288 with 1 Axes>"
      ]
     },
     "metadata": {
      "needs_background": "light"
     },
     "output_type": "display_data"
    },
    {
     "name": "stdout",
     "output_type": "stream",
     "text": [
      "[[1.       1.       1.       1.       1.       1.       1.      ]\n",
      " [1.       1.       1.       1.       1.       1.       1.      ]\n",
      " [1.       1.       1.       1.       0.951927 0.928074 0.943554]\n",
      " [1.       1.       1.       0.717538 0.43571  0.236041 0.196283]\n",
      " [1.       1.       0.696602 0.266081 0.       0.       0.      ]\n",
      " [1.       0.916217 0.370945 0.       0.       0.       0.      ]\n",
      " [1.       0.821234 0.094796 0.       0.       0.       0.      ]]\n"
     ]
    },
    {
     "data": {
      "image/png": "[encoded data removed]",
      "text/plain": [
       "<Figure size 432x288 with 1 Axes>"
      ]
     },
     "metadata": {
      "needs_background": "light"
     },
     "output_type": "display_data"
    },
    {
     "name": "stdout",
     "output_type": "stream",
     "text": [
      "counter:\t26\n"
     ]
    },
    {
     "data": {
      "image/png": "[encoded data removed]",
      "text/plain": [
       "<Figure size 432x288 with 1 Axes>"
      ]
     },
     "metadata": {
      "needs_background": "light"
     },
     "output_type": "display_data"
    },
    {
     "name": "stdout",
     "output_type": "stream",
     "text": [
      "[[1.         1.         0.9995072  0.99650065 0.99190116 0.98878536 0.98809061]\n",
      " [1.         0.99900083 0.99058175 0.97073779 0.94595601 0.92890082 0.92241   ]\n",
      " [0.99898727 0.98671996 0.94486642 0.8708466  0.79283613 0.73952456 0.71766192]\n",
      " [0.98922541 0.94233383 0.8259963  0.66512873 0.51883726 0.42847584 0.39201072]\n",
      " [0.96111307 0.85768561 0.65153974 0.42042523 0.25120262 0.16383343 0.13402944]\n",
      " [0.9186861  0.75982515 0.48433431 0.23291242 0.09149697 0.03907757 0.02628505]\n",
      " [0.88493893 0.69270381 0.38474603 0.13888814 0.03120931 0.00543514 0.00275412]]\n"
     ]
    },
    {
     "data": {
      "image/png": "[encoded data removed]",
      "text/plain": [
       "<Figure size 432x288 with 1 Axes>"
      ]
     },
     "metadata": {
      "needs_background": "light"
     },
     "output_type": "display_data"
    },
    {
     "name": "stdout",
     "output_type": "stream",
     "text": [
      "[[1.       1.       1.       1.       1.       1.       1.      ]\n",
      " [1.       1.       1.       1.       1.       1.       1.      ]\n",
      " [1.       1.       1.       1.       0.925454 0.868147 0.859752]\n",
      " [1.       1.       0.957927 0.689786 0.431537 0.291588 0.25051 ]\n",
      " [1.       1.       0.666357 0.249629 0.       0.       0.      ]\n",
      " [1.       0.877504 0.356989 0.       0.       0.       0.      ]\n",
      " [1.       0.762622 0.166843 0.       0.       0.       0.      ]]\n"
     ]
    }
   ],
   "source": [
    "stencil = make_stencil(1, concentration)\n",
    "print(stencil.shape)\n",
    "sharpened = sharpening(stencil, radius=1, amount=0.1)\n",
    "\n",
    "index = 1\n",
    "plt.imshow(stencil[index], cmap='gray')\n",
    "plt.show()\n",
    "print(stencil[index])\n",
    "\n",
    "plt.imshow(sharpened[index], cmap='gray')\n",
    "plt.show()\n",
    "print(sharpened[index])\n",
    "\n",
    "stencil = make_stencil(4, concentration)\n",
    "sharpened = sharpening(stencil, radius=1, amount=0.1)\n",
    "\n",
    "plt.imshow(stencil[index], cmap='gray')\n",
    "plt.show()\n",
    "print(stencil[index])\n",
    "\n",
    "plt.imshow(sharpened[index], cmap='gray')\n",
    "plt.show()\n",
    "print(sharpened[index])"
   ]
  },
  {
   "cell_type": "code",
   "execution_count": 7,
   "metadata": {},
   "outputs": [
    {
     "name": "stdout",
     "output_type": "stream",
     "text": [
      "counter:\t3\n"
     ]
    }
   ],
   "source": [
    "file_name = os.path.join(basepath, 'data', 'datasets', 'data_7x7_eqk_neg_ell_smr_shift1_int1.5.feather')\n",
    "dataset = pd.read_feather(file_name)\n",
    "dataset = dataset.iloc[:250, :]\n",
    "orig_features = np.array(dataset)[:, 1:]\n",
    "orig_features = np.reshape(orig_features, (orig_features.shape[0], 7, 7))\n",
    "orig_labels = np.array(dataset)[: 1]\n",
    "# Add steps to pipeline\n",
    "pipeline_list = []\n",
    "parameters = {'shift': 1, 'stencil_size': [7, 7], 'angle': False}\n",
    "reshape = False\n",
    "# Transform data to required format\n",
    "pipeline_list.append(('transform', TransformData(parameters=parameters, reshape=reshape)))\n",
    "# Find gradient in middle cell\n",
    "pipeline_list.append(('findgradient', FindGradient(parameters=parameters)))\n",
    "# Shift stencils\n",
    "pipeline_list.append(('shift', Shift(parameters=parameters, shift=parameters['shift'])))\n",
    "# Rotate stencils\n",
    "# pipeline_list.append(('rotate', Rotate(parameters=parameters)))\n",
    "# Interface reconstruction with unsharp mask\n",
    "pipeline_list.append(('unsharp', UnsharpMask(parameters=parameters, amount=0.5)))\n",
    "\n",
    "# Build pipeline\n",
    "data_pipeline = Pipeline(pipeline_list)\n",
    "# Execute pipeline\n",
    "[labels, features, counter_vec] = data_pipeline.fit_transform(dataset)\n",
    "sharpened_features = np.reshape(features, (features.shape[0], int(np.sqrt(features.shape[1])), int(np.sqrt(features.shape[1]))))"
   ]
  },
  {
   "cell_type": "code",
   "execution_count": 14,
   "metadata": {},
   "outputs": [
    {
     "data": {
      "image/png": "[encoded data removed]",
      "text/plain": [
       "<Figure size 432x288 with 1 Axes>"
      ]
     },
     "metadata": {
      "needs_background": "light"
     },
     "output_type": "display_data"
    },
    {
     "data": {
      "image/png": "[encoded data removed]",
      "text/plain": [
       "<Figure size 432x288 with 1 Axes>"
      ]
     },
     "metadata": {
      "needs_background": "light"
     },
     "output_type": "display_data"
    },
    {
     "name": "stdout",
     "output_type": "stream",
     "text": [
      "[[[0.64673394 0.92248491 0.99728652 1.         1.         1.         1.        ]\n",
      "  [0.110799   0.46208239 0.85348077 0.97919665 1.         1.         1.        ]\n",
      "  [0.00045225 0.05716399 0.2738651  0.70962524 0.93442422 0.99746742 1.        ]\n",
      "  [0.         0.         0.01781852 0.13134502 0.49119401 0.85742378 0.97467418]\n",
      "  [0.         0.         0.         0.00171854 0.05987747 0.26012116 0.67485352]\n",
      "  [0.         0.         0.         0.         0.         0.01501459 0.10495655]\n",
      "  [0.         0.         0.         0.         0.         0.         0.00027135]]]\n"
     ]
    },
    {
     "data": {
      "image/png": "[encoded data removed]",
      "text/plain": [
       "<Figure size 432x288 with 1 Axes>"
      ]
     },
     "metadata": {
      "needs_background": "light"
     },
     "output_type": "display_data"
    },
    {
     "name": "stdout",
     "output_type": "stream",
     "text": [
      "[[[0.687383 1.       1.       1.       1.       1.       1.      ]\n",
      "  [0.       0.447142 0.963086 1.       1.       1.       1.      ]\n",
      "  [0.       0.       0.189087 0.79083  1.       1.       1.      ]\n",
      "  [0.       0.       0.       0.022762 0.48833  0.967768 1.      ]\n",
      "  [0.       0.       0.       0.       0.       0.171577 0.78185 ]\n",
      "  [0.       0.       0.       0.       0.       0.       0.046327]\n",
      "  [0.       0.       0.       0.       0.       0.       0.      ]]]\n"
     ]
    }
   ],
   "source": [
    "# np.set_printoptions(formatter={'float': '{: 0.6f},'.format})\n",
    "np.set_printoptions(suppress=True)\n",
    "\n",
    "\n",
    "index = 5\n",
    "# Bar plot\n",
    "plt.bar(range(counter_vec[:200].shape[0]), counter_vec[:200])\n",
    "plt.show()\n",
    "\n",
    "indices = np.argwhere(counter_vec == 2)\n",
    "plt.imshow(orig_features[indices[index]][0, :, :], cmap='gray')\n",
    "plt.show()\n",
    "print(orig_features[indices[index]])\n",
    "plt.imshow(sharpened_features[indices[index]][0, :, :], cmap='gray')\n",
    "plt.show()\n",
    "print(sharpened_features[indices[index]])"
   ]
  },
  {
   "cell_type": "code",
   "execution_count": 9,
   "metadata": {},
   "outputs": [
    {
     "name": "stdout",
     "output_type": "stream",
     "text": [
      "(250, 50)\n",
      "(100, 7, 7)\n"
     ]
    },
    {
     "data": {
      "image/png": "[encoded data removed]",
      "text/plain": [
       "<Figure size 432x288 with 1 Axes>"
      ]
     },
     "metadata": {
      "needs_background": "light"
     },
     "output_type": "display_data"
    },
    {
     "name": "stdout",
     "output_type": "stream",
     "text": [
      "counter:\t2\n"
     ]
    },
    {
     "data": {
      "image/png": "[encoded data removed]",
      "text/plain": [
       "<Figure size 432x288 with 1 Axes>"
      ]
     },
     "metadata": {
      "needs_background": "light"
     },
     "output_type": "display_data"
    },
    {
     "data": {
      "image/png": "[encoded data removed]",
      "text/plain": [
       "<Figure size 432x288 with 1 Axes>"
      ]
     },
     "metadata": {
      "needs_background": "light"
     },
     "output_type": "display_data"
    },
    {
     "name": "stdout",
     "output_type": "stream",
     "text": [
      "[[0.03202522 0.         0.         0.         0.         0.         0.        ]\n",
      " [0.22240629 0.02580856 0.         0.         0.         0.         0.        ]\n",
      " [0.74473381 0.28507841 0.06847746 0.00734696 0.         0.         0.        ]\n",
      " [0.98361062 0.85937813 0.52519682 0.19099171 0.0680065  0.02722144 0.00282575]\n",
      " [1.         0.99745682 0.95130283 0.85170963 0.60272092 0.33327853 0.13799424]\n",
      " [1.         1.         1.         0.99632652 0.96420711 0.92709553 0.85802048]\n",
      " [1.         1.         1.         1.         1.         1.         0.99632652]]\n",
      "[[0.017374 0.       0.       0.       0.       0.       0.      ]\n",
      " [0.208565 0.       0.       0.       0.       0.       0.      ]\n",
      " [0.81892  0.231733 0.009425 0.       0.       0.       0.      ]\n",
      " [1.       0.920795 0.525837 0.121144 0.00494  0.       0.      ]\n",
      " [1.       1.       1.       0.919848 0.62324  0.29316  0.049761]\n",
      " [1.       1.       1.       1.       1.       0.992005 0.920201]\n",
      " [1.       1.       1.       1.       1.       1.       1.      ]]\n"
     ]
    }
   ],
   "source": [
    "print(dataset.shape)\n",
    "stencil = np.array(dataset)[indices[:100], 1:]\n",
    "stencil = np.reshape(stencil, (stencil.shape[0], 7, 7))\n",
    "print(stencil.shape)\n",
    "sharp = sharpening(stencil, radius=1, amount=0.5)\n",
    "\n",
    "index = 1\n",
    "plt.imshow(stencil[index], cmap='gray')\n",
    "plt.show()\n",
    "plt.imshow(sharp[index], cmap='gray')\n",
    "plt.show()\n",
    "print(stencil[index])\n",
    "print(sharp[index])"
   ]
  },
  {
   "cell_type": "code",
   "execution_count": null,
   "metadata": {},
   "outputs": [],
   "source": []
  }
 ],
 "metadata": {
  "kernelspec": {
   "display_name": "Python 3",
   "language": "python",
   "name": "python3"
  },
  "language_info": {
   "codemirror_mode": {
    "name": "ipython",
    "version": 3
   },
   "file_extension": ".py",
   "mimetype": "text/x-python",
   "name": "python",
   "nbconvert_exporter": "python",
   "pygments_lexer": "ipython3",
   "version": "3.8.5"
  }
 },
 "nbformat": 4,
 "nbformat_minor": 4
}
