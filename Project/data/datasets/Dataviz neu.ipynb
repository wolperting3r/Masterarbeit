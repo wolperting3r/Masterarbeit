{
 "cells": [
  {
   "cell_type": "code",
   "execution_count": 1,
   "metadata": {},
   "outputs": [],
   "source": [
    "import os\n",
    "import sys\n",
    "basepath = '/' + os.path.join('Users', 'zach', 'Git', 'Masterarbeit', 'Project')\n",
    "sys.path.append(basepath)"
   ]
  },
  {
   "cell_type": "code",
   "execution_count": 16,
   "metadata": {},
   "outputs": [],
   "source": [
    "import pandas as pd\n",
    "import numpy as np\n",
    "import matplotlib.pyplot as plt\n",
    "import matplotlib.colors as colors\n",
    "import tikzplotlib as tkz\n",
    "\n",
    "# Enable full width output for numpy (https://stackoverflow.com/questions/43514106/python-terminal-output-width)\n",
    "np.set_printoptions(suppress=True, linewidth=250, threshold=250)\n",
    "\n",
    "from src.ml.training import load_model\n",
    "from sklearn.pipeline import Pipeline\n",
    "from src.d.transformators import TransformData, FindGradient, FindAngle, Rotate, CDS, HF, TwoLayers, Shift\n",
    "from data.fortran_test.utils import get_predictions, plot_vofs, create_plot\n",
    "from src.ml.building import custom_loss"
   ]
  },
  {
   "cell_type": "code",
   "execution_count": 3,
   "metadata": {
    "scrolled": true
   },
   "outputs": [
    {
     "name": "stdout",
     "output_type": "stream",
     "text": [
      "Shape:\t(1970645, 50)\n",
      "Shape:\t(2877460, 50)\n",
      "Shape:\t(3324468, 50)\n",
      "Shape:\t(5586276, 50)\n",
      "Shape:\t(7480067, 50)\n",
      "Shape:\t(8422726, 50)\n"
     ]
    }
   ],
   "source": [
    "from sklearn.pipeline import Pipeline\n",
    "from src.d.transformators import TransformData, FindGradient, FindAngle, Rotate, CDS, HF, TwoLayers, Shift, Edge\n",
    "import subprocess\n",
    "import re\n",
    "\n",
    "# Suppress tensorflow logging\n",
    "import logging\n",
    "import os\n",
    "from itertools import product as itpd\n",
    "from multiprocessing import Process\n",
    "\n",
    "# import threading\n",
    "os.environ['TF_CPP_MIN_LOG_LEVEL'] = '3'  # FATAL\n",
    "logging.getLogger('tensorflow').setLevel(logging.FATAL)\n",
    "\n",
    "st_sz = [7, 7]\n",
    "\n",
    "files = [\n",
    "f'./data_CVOFLS_128_0012003_{st_sz[0]}x{st_sz[1]}.feather',\n",
    "f'./data_CVOFLS_256_0010033_{st_sz[0]}x{st_sz[1]}.feather',\n",
    "f'./data_CVOFLS_32_0010033_{st_sz[0]}x{st_sz[1]}.feather',\n",
    "f'./data_CVOFLS_128_00160028_{st_sz[0]}x{st_sz[1]}.feather',\n",
    "f'./data_CVOFLS_128_0010033_{st_sz[0]}x{st_sz[1]}.feather',\n",
    "f'./data_CVOFLS_64_0010033_{st_sz[0]}x{st_sz[1]}.feather',\n",
    "]\n",
    "\n",
    "files_dict = {}\n",
    "\n",
    "for filename in files:\n",
    "    if not ('file' in locals()):\n",
    "        file = pd.read_feather(filename)\n",
    "        print(f'Shape:\\t{file.shape}')\n",
    "    else:\n",
    "        file = file.append(pd.read_feather(filename), ignore_index=True)\n",
    "        print(f'Shape:\\t{file.shape}')"
   ]
  },
  {
   "cell_type": "code",
   "execution_count": 4,
   "metadata": {},
   "outputs": [],
   "source": [
    "parameters = {'stencil_size': st_sz, 'angle': False}\n",
    "data_pipeline = Pipeline([\n",
    "    ('transform', TransformData(parameters=parameters, reshape=False)),\n",
    "    ('findgradient', FindGradient(parameters=parameters)),\n",
    "    ('findangle', FindAngle(parameters=parameters)),\n",
    "    #('shift', Shift(parameters=parameters)),  # Output: [labels, data, angle_matrix]\n",
    "    ('rotate', Rotate(parameters=parameters)),  # Output: [labels, data, angle_matrix]    \n",
    "    #('edge', Edge(parameters=parameters)),  # Output: [labels, data, angle_matrix]    \n",
    "])\n",
    "[lab, feat, ang] = data_pipeline.fit_transform(file)"
   ]
  },
  {
   "cell_type": "code",
   "execution_count": 5,
   "metadata": {},
   "outputs": [],
   "source": [
    "# Get random values\n",
    "np.random.seed(6) \n",
    "indices = np.random.permutation(feat.shape[0])\n",
    "\n",
    "features = feat[indices, :]\n",
    "labels = lab[indices]#*0.075/128"
   ]
  },
  {
   "cell_type": "code",
   "execution_count": 6,
   "metadata": {},
   "outputs": [],
   "source": [
    "#model = '_mlp_1000_200-150-120_7x7_rot_flp_cut_dshift1_shift1_nbi_6'\n",
    "#predictions = get_predictions(features, basepath=basepath, filename=model)#*faktor  # vector_last*faktor # "
   ]
  },
  {
   "cell_type": "code",
   "execution_count": 7,
   "metadata": {},
   "outputs": [
    {
     "name": "stdout",
     "output_type": "stream",
     "text": [
      "CVOFLS: [0.021 0.067 0.006 0.034 0.042 0.025 0.033 0.025 0.063 0.028]\n",
      "\n"
     ]
    },
    {
     "data": {
      "image/png": "[encoded data removed]",
      "text/plain": [
       "<Figure size 2250x450 with 5 Axes>"
      ]
     },
     "metadata": {},
     "output_type": "display_data"
    }
   ],
   "source": [
    "#print(f'Predictions: {np.round(predictions[:10], 3)}')\n",
    "print(f'CVOFLS: {np.round(labels[:10], 3)}')\n",
    "    \n",
    "n_plots = 5\n",
    "plot_vofs(np.reshape(features, (features.shape[0],st_sz[0],st_sz[1])), n_plots, per_row=5, labels=labels)"
   ]
  },
  {
   "cell_type": "code",
   "execution_count": 32,
   "metadata": {},
   "outputs": [
    {
     "name": "stdout",
     "output_type": "stream",
     "text": [
      "[-0.16544999999999999, 0.79045, 2.0117432597091094, 7418159.314304283]\n"
     ]
    },
    {
     "data": {
      "image/png": "[encoded data removed]",
      "text/plain": [
       "<Figure size 468x288 with 1 Axes>"
      ]
     },
     "metadata": {
      "needs_background": "light"
     },
     "output_type": "display_data"
    }
   ],
   "source": [
    "roud = 3\n",
    "\n",
    "# '''\n",
    "# Make figure without border\n",
    "fig = plt.figure(frameon=False)\n",
    "fig.set_size_inches(6.5,4)\n",
    "ax = plt.Axes(fig, [0., 0., 1., 1.])\n",
    "ax.set_axis_off()\n",
    "fig.add_axes(ax)\n",
    "# '''\n",
    "\n",
    "color = np.array(colors.to_rgb('k'))\n",
    "white = np.array(colors.to_rgb('white'))\n",
    "mixed_color = (color+white)/2\n",
    "# mixed_color = color\n",
    "\n",
    "pd.Series(np.round(labels, roud)).hist(bins=93, color=mixed_color, label='Verteilung vorher')\n",
    "ax = plt.gca()\n",
    "ax.set_yscale('log')\n",
    "# plt.legend()\n",
    "# ax.set_ylim([2, 1e7])\n",
    "x1,x2,y1,y2 = plt.axis()\n",
    "print([x1, x2, y1, y2])\n",
    "tkz.save('Bins_vorher.tex', axis_height='4cm', axis_width='7cm')\n",
    "plt.savefig('Bins_vorher.eps', dpi=150)\n",
    "with open('Bins_vorher.eps', 'r') as myfile:\n",
    "    data = myfile.read()\n",
    "    data = re.sub(r'fill', 'gsave fill grestore stroke', data)\n",
    "with open('Bins_vorher.eps', 'w') as myfile:\n",
    "    myfile.write(data)\n",
    "\n",
    "# os.system('inkscape -D Bins_vorher.svg -o Bins_vorher.pdf --export-latex')\n",
    "\n"
   ]
  },
  {
   "cell_type": "code",
   "execution_count": 8,
   "metadata": {},
   "outputs": [
    {
     "name": "stdout",
     "output_type": "stream",
     "text": [
      "-0.12227624981249999 - 0.746574001640625\n"
     ]
    }
   ],
   "source": [
    "n_bins = 500\n",
    "data = file.values\n",
    "print(f'{data[:, 0].min()} - {data[:, 0].max()}')\n",
    "binwidth = (data[:, 0].max()-data[:, 0].min())/n_bins\n",
    "max_per_bin = 3e2\n",
    "\n",
    "output_data = np.empty((0, 1+np.prod(st_sz)))\n",
    "\n",
    "for i in range(n_bins):\n",
    "    bin_lower = data[:, 0].min()+i*binwidth\n",
    "    bin_higher = data[:, 0].min()+(i+1)*binwidth\n",
    "    bin_indices = np.nonzero((data[:, 0] > bin_lower) & (data[:, 0] <= bin_higher))\n",
    "    bin_data = data[bin_indices]\n",
    "    np.random.seed(1)\n",
    "    indices = np.random.permutation(bin_data.shape[0])\n",
    "    bin_data = bin_data[indices]   \n",
    "    if len(bin_indices[0]) >= max_per_bin:\n",
    "        # Take the first max_per_bin indices from random indices\n",
    "        bin_data = bin_data[:int(min(max_per_bin, bin_data.shape[0]))]\n",
    "        output_data = np.concatenate((output_data, bin_data))\n",
    "    else:\n",
    "        # Duplicate data\n",
    "        if len(bin_indices[0]) > 0:\n",
    "            factor = int(np.ceil(max_per_bin/len(bin_indices[0])))\n",
    "            if factor < 20:\n",
    "                for i in range(factor+1):\n",
    "                    bin_data = np.concatenate((bin_data, bin_data), axis=0)\n",
    "                bin_data = bin_data[:int(min(max_per_bin, bin_data.shape[0]))]\n",
    "                output_data = np.concatenate((output_data, bin_data))\n",
    "            #else:\n",
    "                #bin_data = bin_data[:int(min(max_per_bin, bin_data.shape[0]))]"
   ]
  },
  {
   "cell_type": "code",
   "execution_count": 31,
   "metadata": {},
   "outputs": [
    {
     "name": "stdout",
     "output_type": "stream",
     "text": [
      "(79500, 50)\n",
      "[-0.11341425908085936, 0.4227686057449219, 249.79158216571292, 1081.717797122345]\n"
     ]
    },
    {
     "data": {
      "image/png": "[encoded data removed]",
      "text/plain": [
       "<Figure size 468x288 with 1 Axes>"
      ]
     },
     "metadata": {
      "needs_background": "light"
     },
     "output_type": "display_data"
    }
   ],
   "source": [
    "print(output_data.shape)\n",
    "\n",
    "# '''\n",
    "# Make figure without border\n",
    "fig = plt.figure(frameon=False)\n",
    "fig.set_size_inches(6.5,4)\n",
    "ax = plt.Axes(fig, [0., 0., 1., 1.])\n",
    "ax.set_axis_off()\n",
    "fig.add_axes(ax)\n",
    "# '''\n",
    "\n",
    "color = np.array(colors.to_rgb('royalblue'))\n",
    "white = np.array(colors.to_rgb('white'))\n",
    "mixed_color = (color+white)/2\n",
    "\n",
    "pd.Series(output_data[:, 0]).hist(bins=100, color=mixed_color, label='Verteilung nachher')\n",
    "ax = plt.gca()\n",
    "ax.set_yscale('log')\n",
    "# plt.legend()\n",
    "x1,x2,y1,y2 = plt.axis()\n",
    "print([x1, x2, y1, y2])\n",
    "ax.set_ylim([99, y2])\n",
    "tkz.save('Bins_nachher.tex', axis_height='4cm', axis_width='7cm')\n",
    "plt.savefig('Bins_nachher.eps', dpi=150)\n",
    "with open('Bins_nachher.eps', 'r') as myfile:\n",
    "    data = myfile.read()\n",
    "    data = re.sub(r'fill', 'gsave fill grestore stroke', data)\n",
    "with open('Bins_nachher.eps', 'w') as myfile:\n",
    "    myfile.write(data)\n",
    "# os.system('inkscape -D Bins_nachher.svg -o Bins_nachher.pdf --export-latex')\n",
    "    "
   ]
  },
  {
   "cell_type": "code",
   "execution_count": null,
   "metadata": {},
   "outputs": [],
   "source": []
  }
 ],
 "metadata": {
  "kernelspec": {
   "display_name": "Python 3",
   "language": "python",
   "name": "python3"
  },
  "language_info": {
   "codemirror_mode": {
    "name": "ipython",
    "version": 3
   },
   "file_extension": ".py",
   "mimetype": "text/x-python",
   "name": "python",
   "nbconvert_exporter": "python",
   "pygments_lexer": "ipython3",
   "version": "3.8.5"
  }
 },
 "nbformat": 4,
 "nbformat_minor": 4
}
