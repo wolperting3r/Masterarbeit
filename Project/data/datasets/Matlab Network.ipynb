{
 "cells": [
  {
   "cell_type": "code",
   "execution_count": 1,
   "metadata": {},
   "outputs": [],
   "source": [
    "import os\n",
    "import sys\n",
    "basepath = '/' + os.path.join('Users', 'zach', 'Git', 'Masterarbeit', 'Project')\n",
    "sys.path.append(basepath)\n",
    "import pandas as pd\n",
    "import numpy as np\n",
    "import matplotlib.pyplot as plt"
   ]
  },
  {
   "cell_type": "code",
   "execution_count": 4,
   "metadata": {},
   "outputs": [],
   "source": [
    "b1 = np.array(pd.read_csv(os.path.join(basepath, 'models', 'MATLAB', '160', 'b1.csv'), header=None))\n",
    "b2 = np.array(pd.read_csv(os.path.join(basepath, 'models', 'MATLAB', '160', 'b2.csv'), header=None))\n",
    "IW1 = np.array(pd.read_csv(os.path.join(basepath, 'models', 'MATLAB', '160', 'IW1_1.csv'), header=None))\n",
    "LW2 = np.array(pd.read_csv(os.path.join(basepath, 'models', 'MATLAB', '160', 'LW2_1.csv'), header=None))\n",
    "b1 = b1.T\n",
    "b2 = b2.T\n",
    "IW1 = IW1.T\n",
    "LW2 = LW2.T\n",
    "# b1 = np.rot90(b1)\n",
    "# b2 = np.rot90(b2)\n",
    "# IW1 = np.rot90(IW1)\n",
    "# LW2 = np.rot90(LW2)"
   ]
  },
  {
   "cell_type": "code",
   "execution_count": 5,
   "metadata": {},
   "outputs": [
    {
     "name": "stdout",
     "output_type": "stream",
     "text": [
      "Input -> Hidden:\n",
      "\n",
      "IW1:\t(49, 160)\n",
      "b1:\t(1, 160)\n",
      "\n",
      "Hidden -> Output:\n",
      "\n",
      "LW2:\t(160, 1)\n",
      "b2:\t(1, 1)\n"
     ]
    }
   ],
   "source": [
    "print('Input -> Hidden:\\n')\n",
    "print(f'IW1:\\t{IW1.shape}')\n",
    "print(f'b1:\\t{b1.shape}')\n",
    "print('\\nHidden -> Output:\\n')\n",
    "print(f'LW2:\\t{LW2.shape}')\n",
    "print(f'b2:\\t{b2.shape}')"
   ]
  },
  {
   "cell_type": "code",
   "execution_count": 12,
   "metadata": {},
   "outputs": [],
   "source": [
    "weights = {'IHW': IW1, 'IHB': b1, 'HOW': LW2, 'HOB': b2}\n",
    "\n",
    "# Reshape matrices to 1D vectors\n",
    "output_weights = []\n",
    "for k in weights.keys():\n",
    "    output_weights.append(np.reshape(weights[k], (weights[k].shape[0]*weights[k].shape[1], 1)))"
   ]
  },
  {
   "cell_type": "code",
   "execution_count": 13,
   "metadata": {},
   "outputs": [],
   "source": [
    "parameters = {\n",
    "    'stencil_size': [7, 7],\n",
    "    'layers': [160],\n",
    "    'activation': 'tanh', # ??\n",
    "    'bias': True,\n",
    "    'edge': False,\n",
    "    'unsharp_mask': False,\n",
    "}"
   ]
  },
  {
   "cell_type": "code",
   "execution_count": 14,
   "metadata": {},
   "outputs": [],
   "source": [
    "file_name = os.path.join(basepath, 'matlab_modell_160')\n",
    "# Export network to text file\n",
    "with open(file_name, 'w') as output:\n",
    "    # Write number of input nodes\n",
    "    output.write(str(parameters['stencil_size'][0]*parameters['stencil_size'][1])+'\\n')\n",
    "    # Write number of layers\n",
    "    output.write(str(len(parameters['layers'])+1)+'\\n')\n",
    "    # Write nodes per layer\n",
    "    for l in parameters['layers']:\n",
    "        output.write(str(l)+'\\n')\n",
    "    output.write('1\\n')\n",
    "    # Write activation function per layer\n",
    "    for l in range(len(parameters['layers'])):\n",
    "        output.write(parameters['activation']+'\\n')\n",
    "    output.write('line\\n')\n",
    "    # Write 1 for bias_on and out_bias_on\n",
    "    # output.write('1\\n1\\n')\n",
    "    output.write(('1\\n' if parameters['bias'] else '0\\n'))\n",
    "    # Write 1 for edge on\n",
    "    output.write(('1\\n' if parameters['edge'] else '0\\n'))\n",
    "    # Write 1 for unsharp masking on\n",
    "    output.write(('1\\n' if parameters['unsharp_mask'] else '0\\n'))\n",
    "    for w in output_weights:\n",
    "        output.write(\"\\n\".join(map(str, w[:, 0])))\n",
    "        output.write('\\n')\n",
    "# '''\n"
   ]
  },
  {
   "cell_type": "code",
   "execution_count": null,
   "metadata": {},
   "outputs": [],
   "source": []
  }
 ],
 "metadata": {
  "kernelspec": {
   "display_name": "Python 3",
   "language": "python",
   "name": "python3"
  },
  "language_info": {
   "codemirror_mode": {
    "name": "ipython",
    "version": 3
   },
   "file_extension": ".py",
   "mimetype": "text/x-python",
   "name": "python",
   "nbconvert_exporter": "python",
   "pygments_lexer": "ipython3",
   "version": "3.8.5"
  }
 },
 "nbformat": 4,
 "nbformat_minor": 4
}
