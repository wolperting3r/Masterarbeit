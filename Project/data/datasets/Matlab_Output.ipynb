{
 "cells": [
  {
   "cell_type": "code",
   "execution_count": 1,
   "metadata": {},
   "outputs": [],
   "source": [
    "import os\n",
    "import sys\n",
    "basepath = '/' + os.path.join('Users', 'zach', 'Git', 'Masterarbeit', 'Project')\n",
    "sys.path.append(basepath)"
   ]
  },
  {
   "cell_type": "code",
   "execution_count": 2,
   "metadata": {},
   "outputs": [
    {
     "name": "stdout",
     "output_type": "stream",
     "text": [
      "(999774, 49)\n"
     ]
    }
   ],
   "source": [
    "import pandas as pd\n",
    "import numpy as np\n",
    "import matplotlib.pyplot as plt\n",
    "\n",
    "# Enable full width output for numpy (https://stackoverflow.com/questions/43514106/python-terminal-output-width)\n",
    "np.set_printoptions(suppress=True, linewidth=250, threshold=250)\n",
    "\n",
    "file = 'data_7x7_eqk_neg_ell_smr_shift1_int2'\n",
    "file_name = os.path.join(basepath, 'data', 'datasets', file+'.feather')\n",
    "data = pd.read_feather(file_name)\n",
    "curvature = data.iloc[:, 1]\n",
    "features = data.iloc[:, 1:]\n",
    "print(features.shape)\n"
   ]
  },
  {
   "cell_type": "code",
   "execution_count": 3,
   "metadata": {},
   "outputs": [],
   "source": [
    "features.to_csv(os.path.join(basepath, 'data', 'datasets', 'export', file+'_features.csv'), header=None, index=None)\n",
    "curvature.to_csv(os.path.join(basepath, 'data', 'datasets', 'export', file+'_curvature.csv'), header=None, index=None)"
   ]
  },
  {
   "cell_type": "code",
   "execution_count": 4,
   "metadata": {},
   "outputs": [
    {
     "name": "stderr",
     "output_type": "stream",
     "text": [
      "/Users/zach/Git/Masterarbeit/Project/src/d/transformators.py:926: RuntimeWarning: divide by zero encountered in true_divide\n",
      "  pos_x_1 = (0.5 - triplets1_x)/(triplets2_x - triplets1_x)\n",
      "/Users/zach/Git/Masterarbeit/Project/src/d/transformators.py:929: RuntimeWarning: divide by zero encountered in true_divide\n",
      "  pos_y_1 = (0.5 - triplets1_y)/(triplets2_y - triplets1_y)\n"
     ]
    }
   ],
   "source": [
    "from sklearn.pipeline import Pipeline\n",
    "from src.d.transformators import TransformData, FindGradient, FindAngle, Rotate, CDS, HF, TwoLayers, Edge, UnsharpMask, Shift\n",
    "\n",
    "dataset = data.copy()\n",
    "# Add steps to pipeline\n",
    "pipeline_list = []\n",
    "parameters = {'shift': 1, 'stencil_size': [7, 7], 'angle': False}\n",
    "reshape = False\n",
    "# Transform data to required format\n",
    "pipeline_list.append(('transform', TransformData(parameters=parameters, reshape=reshape)))\n",
    "pipeline_list.append(('findgradient', FindGradient(parameters=parameters)))\n",
    "pipeline_list.append(('shift', Shift(parameters=parameters, shift=parameters['shift'])))\n",
    "pipeline_list.append(('rotate', Rotate(parameters=parameters)))\n",
    "pipeline_list.append(('edge', Edge(parameters=parameters)))\n",
    "# pipeline_list.append(('unsharp', UnsharpMask(parameters=parameters, amount=0.5)))\n",
    "\n",
    "# Build pipeline\n",
    "data_pipeline = Pipeline(pipeline_list)\n",
    "# Execute pipeline\n",
    "[labels_pre, features_pre, counter_vec] = data_pipeline.fit_transform(dataset)"
   ]
  },
  {
   "cell_type": "code",
   "execution_count": 5,
   "metadata": {},
   "outputs": [
    {
     "name": "stdout",
     "output_type": "stream",
     "text": [
      "(999774, 50)\n"
     ]
    }
   ],
   "source": [
    "prefix = '_edge'\n",
    "pd.DataFrame(features_pre).to_csv(os.path.join(basepath, 'data', 'datasets', 'export', file+'_features'+prefix+'.csv'), header=None, index=None)\n",
    "pd.DataFrame(labels_pre).to_csv(os.path.join(basepath, 'data', 'datasets', 'export', file+'_curvature'+prefix+'.csv'), header=None, index=None)\n",
    "print(features_pre.shape)"
   ]
  },
  {
   "cell_type": "code",
   "execution_count": null,
   "metadata": {},
   "outputs": [],
   "source": []
  },
  {
   "cell_type": "code",
   "execution_count": null,
   "metadata": {},
   "outputs": [],
   "source": []
  }
 ],
 "metadata": {
  "kernelspec": {
   "display_name": "Python 3",
   "language": "python",
   "name": "python3"
  },
  "language_info": {
   "codemirror_mode": {
    "name": "ipython",
    "version": 3
   },
   "file_extension": ".py",
   "mimetype": "text/x-python",
   "name": "python",
   "nbconvert_exporter": "python",
   "pygments_lexer": "ipython3",
   "version": "3.8.5"
  }
 },
 "nbformat": 4,
 "nbformat_minor": 4
}
