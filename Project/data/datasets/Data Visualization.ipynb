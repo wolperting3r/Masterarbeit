{
 "cells": [
  {
   "cell_type": "code",
   "execution_count": 90,
   "metadata": {},
   "outputs": [],
   "source": [
    "import os\n",
    "import sys\n",
    "basepath = '/' + os.path.join('Users', 'zach', 'Git', 'Masterarbeit', 'Project')\n",
    "sys.path.append(basepath)"
   ]
  },
  {
   "cell_type": "code",
   "execution_count": 91,
   "metadata": {},
   "outputs": [],
   "source": [
    "import pandas as pd\n",
    "import numpy as np\n",
    "import matplotlib.pyplot as plt\n",
    "\n",
    "# Enable full width output for numpy (https://stackoverflow.com/questions/43514106/python-terminal-output-width)\n",
    "np.set_printoptions(suppress=True, linewidth=250, threshold=250)\n",
    "\n",
    "from src.ml.training import load_model"
   ]
  },
  {
   "cell_type": "code",
   "execution_count": 166,
   "metadata": {},
   "outputs": [],
   "source": [
    "def get_predictions(data):\n",
    "    parameters = {'filename': '_mlp_1000_100-80_7x7_eqk_0.0001_128_relu_neg_nag_nrt_all_smr_nhc'}\n",
    "    # parameters = {'filename': '_mlp_1000_100-80_7x7_eqk_0.0001_128_relu_neg_nag_nrt_circle_smr_nhc'}\n",
    "    model = load_model(parameters, path=basepath)\n",
    "    test_predictions = model.predict(data, batch_size=128).flatten()\n",
    "    return test_predictions"
   ]
  },
  {
   "cell_type": "code",
   "execution_count": 93,
   "metadata": {},
   "outputs": [],
   "source": [
    "def plot_vofs(features, number_of_plots, **kwargs):\n",
    "    if 'per_row' in kwargs:\n",
    "        per_row = kwargs.get('per_row')\n",
    "    else:\n",
    "        per_row = 5\n",
    "    rows = int(number_of_plots/per_row)\n",
    "    print()\n",
    "    if 'size' in kwargs:\n",
    "        size = 150*kwargs.get('size')\n",
    "    else:\n",
    "        size = 150\n",
    "    fig, ax = plt.subplots(rows, per_row, figsize=(3*per_row, 3*number_of_plots/per_row), dpi=size)\n",
    "    if rows > 1:\n",
    "        for idx_st, a_stack in enumerate(ax):\n",
    "            for idx, a in enumerate(a_stack):\n",
    "                a.imshow(features[idx+int(idx_st*number_of_plots/per_row)], cmap='Greys_r')\n",
    "                a.get_xaxis().set_ticks([])\n",
    "                a.get_yaxis().set_ticks([])\n",
    "                if 'labels' in kwargs:\n",
    "                    labels=kwargs.get('labels')\n",
    "                    kappa = labels[idx + int(idx_st*number_of_plots/per_row)]\n",
    "\n",
    "                    if 'hf' in kwargs:\n",
    "                        hf = kwargs.get('hf')\n",
    "                        hf = hf[idx + int(idx_st*number_of_plots/per_row)]\n",
    "                        a.set_title(f'hf: {np.round(hf, 3)}, k: {np.round(kappa, 3)}', fontsize=14)\n",
    "                    else:\n",
    "                        a.set_title(f'kappa = {np.round(kappa, 3)}', fontsize=22)\n",
    "    else:\n",
    "        idx_st = 0\n",
    "        for idx, a in enumerate(ax):\n",
    "                a.imshow(features[idx+int(idx_st*number_of_plots/per_row)], cmap='Greys_r')\n",
    "                a.get_xaxis().set_ticks([])\n",
    "                a.get_yaxis().set_ticks([])\n",
    "                if 'labels' in kwargs:\n",
    "                    labels=kwargs.get('labels')\n",
    "                    kappa = labels[idx + int(idx_st*number_of_plots/per_row)]\n",
    "\n",
    "                    if 'hf' in kwargs:\n",
    "                        hf = kwargs.get('hf')\n",
    "                        hf = hf[idx + int(idx_st*number_of_plots/per_row)]\n",
    "                        a.set_title(f'hf: {np.round(hf, 3)}, k: {np.round(kappa, 3)}', fontsize=12)\n",
    "                    else:\n",
    "                        a.set_title(f'kappa = {np.round(kappa, 3)}', fontsize=22)\n",
    "                    \n",
    "    fig.tight_layout()"
   ]
  },
  {
   "cell_type": "code",
   "execution_count": 94,
   "metadata": {},
   "outputs": [],
   "source": [
    "def create_plot(labels, predictions, color, parameters, **kwargs):\n",
    "    # Create plot\n",
    "    fig, ax = plt.subplots(1, 1, figsize=(10, 10))\n",
    "\n",
    "    # Create scatterplot test_predictions vs test_labels\n",
    "    alpha = 0.1\n",
    "    marker = kwargs.get('marker') if 'marker' in kwargs else ','\n",
    "    size = (kwargs.get('size') if 'size' in kwargs else 1)\n",
    "    plt.scatter(labels, predictions, alpha=alpha, color=color, edgecolors='none', marker=marker, s=size)  # darkseagreen\n",
    "    \n",
    "    if 'axis' in kwargs:\n",
    "        axis = kwargs.get('axis')\n",
    "        if axis == 'equal':\n",
    "            lims = [[min(predictions), max(predictions)], [min(predictions), max(predictions)]]\n",
    "            # Plot the 45 degree line\n",
    "            ax.plot(lims[0], lims[0], color='gray')\n",
    "        else:\n",
    "            lims = [[min(labels), max(labels)], [min(predictions), max(predictions)]]\n",
    "        \n",
    "    else:\n",
    "        lims = [[min(predictions), max(predictions)], [min(predictions), max(predictions)]]\n",
    "        # Plot the 45 degree line\n",
    "        ax.plot(lims[0], lims[0], color='gray')\n",
    "    ax.set_xlim(lims[0])\n",
    "    ax.set_ylim(lims[1])\n",
    "    ax.set_xlabel('True Values')\n",
    "    ax.set_ylabel('Predictions')\n",
    " \n",
    "    fig.tight_layout()\n",
    "\n",
    "    return fig, ax\n"
   ]
  },
  {
   "cell_type": "code",
   "execution_count": 95,
   "metadata": {},
   "outputs": [],
   "source": [
    "import time\n",
    "\n",
    "from sklearn.base import (\n",
    "    BaseEstimator,  # for get_params, set_params\n",
    "    TransformerMixin     # for fit_transform\n",
    ")\n",
    "\n",
    "class TransformData(BaseEstimator, TransformerMixin):\n",
    "    def __init__(self, parameters, reshape=False):\n",
    "        self.parameters = parameters\n",
    "        self.reshape = reshape\n",
    "\n",
    "    def fit(self, dataset):\n",
    "        return self  # Nothing to do\n",
    "\n",
    "    def transform(self, dataset):\n",
    "        # Split the training and test data into labels (first column) and data\n",
    "        # dataset = dataset[dataset.iloc[:, 0] > 0]  # Pos values only\n",
    "        labels = dataset.iloc[:, 0].to_numpy()\n",
    "        data = dataset.iloc[:, 1:].to_numpy()\n",
    "\n",
    "        labels = np.round(labels, 5)\n",
    "        data = np.round(data, 5)\n",
    "\n",
    "        if self.reshape:\n",
    "            st_sz = self.parameters['stencil_size']\n",
    "            # Reshape data\n",
    "            data = np.reshape(data, (data.shape[0], st_sz[0], st_sz[1], 1))\n",
    "\n",
    "        return [labels, data]\n",
    "\n",
    "    \n",
    "class FindGradient(BaseEstimator, TransformerMixin):\n",
    "    def __init__(self, parameters):\n",
    "        self.parameters = parameters\n",
    "\n",
    "    def fit(self, dataset):\n",
    "        return self\n",
    "\n",
    "    def get_gradient(self, data):\n",
    "        time0 = time.time()\n",
    "        # Get points where gradient should not be calculated\n",
    "        no_interface = np.nonzero((data == 1) | (data == 0))\n",
    "        # Initialize gradient matrices\n",
    "        grad_x = np.empty((data.shape))  # * np.nan\n",
    "        grad_y = np.empty((data.shape))  # * np.nan\n",
    "        grad_x.fill(np.nan)\n",
    "        grad_y.fill(np.nan)\n",
    "        # If stencil is 5x5 or bigger, use central difference quotient\n",
    "        if (data.shape[1] >= 5) & (data.shape[2] >= 5):\n",
    "            # Calculate gradient\n",
    "            for x in range(1, data.shape[1]-1):\n",
    "                for y in range(1, data.shape[2]-1):\n",
    "                    grad_x[:, y, x, 0] = np.array([\n",
    "                        data[:, y, x+1, 0] -\n",
    "                        data[:, y, x-1, 0]\n",
    "                    ])/2\n",
    "                    grad_y[:, y, x, 0] = np.array([\n",
    "                        data[:, y-1, x, 0] -\n",
    "                        data[:, y+1, x, 0]\n",
    "                    ])/2\n",
    "        # If stencil has other dimensions (e.g. 3x3), use fallback (forward/central/backward d.q.)\n",
    "        else:\n",
    "            mp = [int((data.shape[1]-1)/2), int((data.shape[2]-1)/2)]  # y, x\n",
    "            # Calculate gradient x\n",
    "            for y in range(mp[0]-1, mp[0]+2):\n",
    "                # Backward difference quotient\n",
    "                grad_x[:, y, mp[1]-1, 0] = np.array([\n",
    "                    data[:, y, mp[1], 0] -\n",
    "                    data[:, y, mp[1]-1, 0]\n",
    "                ])/1  # mathematically correct: /1, but /2 works much better in this application\n",
    "                # Central difference quotient\n",
    "                grad_x[:, y, mp[1], 0] = np.array([\n",
    "                    data[:, y, mp[1]+1, 0] -\n",
    "                    data[:, y, mp[1]-1, 0]\n",
    "                ])/2\n",
    "                # Forward difference quotient\n",
    "                grad_x[:, y, mp[1]+1, 0] = np.array([\n",
    "                    data[:, y, mp[1]+1, 0] -\n",
    "                    data[:, y, mp[1], 0]\n",
    "                ])/1\n",
    "            for x in range(mp[1]-1, mp[1]+2):\n",
    "                # Backward difference quotient\n",
    "                grad_y[:, mp[0]-1, x, 0] = np.array([\n",
    "                    data[:, mp[0]-1, x, 0] -\n",
    "                    data[:, mp[0], x, 0]\n",
    "                ])/1\n",
    "                # Central difference quotient\n",
    "                grad_y[:, mp[0], x, 0] = np.array([\n",
    "                    data[:, mp[0]-1, x, 0] -\n",
    "                    data[:, mp[0]+1, x, 0]\n",
    "                ])/2\n",
    "                # Forward difference quotient\n",
    "                grad_y[:, mp[0]+1, x, 0] = np.array([\n",
    "                    data[:, mp[0], x, 0] -\n",
    "                    data[:, mp[0]+1, x, 0]\n",
    "                ])/1\n",
    "        grad_x[no_interface] = np.nan\n",
    "        grad_y[no_interface] = np.nan\n",
    "        # angle = np.arctan2(-grad_y, -grad_x)*180/np.pi  # y, x\n",
    "        # angle = gradient[1]\n",
    "        return [grad_y, grad_x]\n",
    "\n",
    "    def get_mid_gradient(self, data):\n",
    "        time0 = time.time()\n",
    "        # Get stencil size\n",
    "        st_sz = self.parameters['stencil_size']\n",
    "        # Calculate midpoint\n",
    "        mp = [int((st_sz[0]-1)/2), int((st_sz[1]-1)/2)]\n",
    "        # Calculate gradient in midpoint\n",
    "        grad_x = np.array([\n",
    "            data[:, mp[0], mp[1]+1, 0] -\n",
    "            data[:, mp[0], mp[1]-1, 0]\n",
    "        ])/2\n",
    "        grad_y = np.array([\n",
    "            data[:, mp[0]-1, mp[1], 0] -\n",
    "            data[:, mp[0]+1, mp[1], 0]\n",
    "        ])/2\n",
    "\n",
    "        return [grad_y, grad_x]\n",
    "\n",
    "    def transform(self, dataset):\n",
    "        time0 = time.time()\n",
    "        # Get stencil size\n",
    "        st_sz = self.parameters['stencil_size']\n",
    "        # Seperate data from labels\n",
    "        data = dataset[1].copy()\n",
    "        # Get shape of data\n",
    "        shape = data.shape\n",
    "        # Check if data was transformed (shape = 4) or not (shape = 2), reshape data that was not transformed\n",
    "        if len(shape) == 2:\n",
    "            data = np.reshape(data, (shape[0], st_sz[0], st_sz[1], 1))\n",
    "        if self.parameters['angle']:\n",
    "            # Get gradient matrix\n",
    "            [grad_y, grad_x] = self.get_gradient(data)\n",
    "        else:\n",
    "            # Get gradient in midpoint only (much faster) if angle matrix is not needed\n",
    "            [grad_y, grad_x] = self.get_mid_gradient(data)\n",
    "\n",
    "        # Reshape to tensor if angle matrix is needed, otherwise just output vectors\n",
    "        if (data.shape != shape) & (self.parameters['angle']):\n",
    "            # Reshape transformed data to original shape\n",
    "            grad_y = np.reshape(grad_y, shape)\n",
    "            grad_x = np.reshape(grad_x, shape)\n",
    "\n",
    "        return [dataset[0], dataset[1], grad_x, grad_y]\n",
    "\n",
    "    \n",
    "class HF(BaseEstimator, TransformerMixin):\n",
    "    def __init__(self, parameters):\n",
    "        self.parameters = parameters\n",
    "\n",
    "    def fit(self, dataset):\n",
    "        return self\n",
    "\n",
    "    def transform(self, dataset):\n",
    "        # time0 = time.time()\n",
    "        # Get stencil size\n",
    "        st_sz = self.parameters['stencil_size']\n",
    "        # Seperate data from labels\n",
    "        data = dataset[1].copy()\n",
    "        grad_x = dataset[2][0]\n",
    "        grad_y = dataset[3][0]\n",
    "        # Get shape of data\n",
    "        shape = data.shape\n",
    "        # Check if data was transformed (shape = 4) or not (shape = 2), reshape data that was not transformed\n",
    "        if len(shape) == 2:\n",
    "            data = np.reshape(data, (shape[0], st_sz[0], st_sz[1], 1))\n",
    "\n",
    "        # Get midpoint\n",
    "        i = int((st_sz[0]-1)/2)\n",
    "        j = int((st_sz[1]-1)/2)\n",
    "\n",
    "        # Find stencils where gradient points more in y direction (g_y) or x direction (g_x)\n",
    "        g_y = np.nonzero((np.abs(grad_y) > np.abs(grad_x)) == True)\n",
    "        g_x = np.nonzero((np.abs(grad_y) > np.abs(grad_x)) == False)\n",
    "\n",
    "        # Initialize height function vectors\n",
    "        h1 = np.zeros((data.shape[0]))\n",
    "        h2 = np.zeros((data.shape[0]))\n",
    "        h3 = np.zeros((data.shape[0]))\n",
    "        # Hier läuft noch irgendwas schief\n",
    "        # Calculate height function values for stencils in y-direction\n",
    "        for a in np.arange(0, 2*i+1):\n",
    "            h1[g_y] = np.sum([h1[g_y], data[g_y, a, j-1, 0]], axis=0)\n",
    "            h2[g_y] = np.sum([h2[g_y], data[g_y, a, j, 0]], axis=0)\n",
    "            h3[g_y] = np.sum([h3[g_y], data[g_y, a, j+1, 0]], axis=0)\n",
    "        # Calculate height function values for stencils in x-direction\n",
    "        for b in np.arange(0, 2*j+1):\n",
    "            h1[g_x] = np.sum([h1[g_x], data[g_x, i-1, b, 0]], axis=0)\n",
    "            h2[g_x] = np.sum([h2[g_x], data[g_x, i, b, 0]], axis=0)\n",
    "            h3[g_x] = np.sum([h3[g_x], data[g_x, i+1, b, 0]], axis=0)\n",
    "\n",
    "        # Delta = 1/1000  # see data generation\n",
    "        Delta = 1\n",
    "\n",
    "        # Calculate derivatives\n",
    "        h_x = (h1-h3)/(2*Delta)\n",
    "        h_xx = (h3-2*h2+h1)/(Delta**2)\n",
    "        # h_x = (h1-h3)/(2)\n",
    "        # h_xx = (h3-2*h2+h1)\n",
    "\n",
    "        # Calculate kappa\n",
    "        kappa = np.round(\n",
    "            2/Delta*h_xx/((1+np.multiply(h_x, h_x))**(3/2))\n",
    "            , 5)\n",
    "\n",
    "        # Reshape to tensor if angle matrix is needed, otherwise just output vectors\n",
    "        if (data.shape != shape) & (self.parameters['angle']):\n",
    "            # Reshape transformed data to original shape\n",
    "            data = np.reshape(data, shape)\n",
    "\n",
    "        return [dataset[0], dataset[1], np.array([kappa]).T]\n"
   ]
  },
  {
   "cell_type": "code",
   "execution_count": 173,
   "metadata": {
    "scrolled": false
   },
   "outputs": [
    {
     "name": "stdout",
     "output_type": "stream",
     "text": [
      "Shape:\t(1000000, 50)\n",
      "[2333, 48, 7]\n",
      "max:\t-0.049,\tmin:\t-0.051\n",
      "param_str:\n",
      "_mlp_1000_100-80_7x7_eqk_0.0001_128_relu_neg_nag_nrt_all_smr_nhc\n",
      "\n"
     ]
    },
    {
     "data": {
      "image/png": "[encoded data removed]",
      "text/plain": [
       "<Figure size 432x288 with 1 Axes>"
      ]
     },
     "metadata": {
      "needs_background": "light"
     },
     "output_type": "display_data"
    },
    {
     "data": {
      "image/png": "[encoded data removed]",
      "text/plain": [
       "<Figure size 1125x450 with 10 Axes>"
      ]
     },
     "metadata": {},
     "output_type": "display_data"
    }
   ],
   "source": [
    "#filename = 'data_5x5_eqk_neg_ellre.feather'\n",
    "#filename = 'data_5x5_eqk_neg_cir_smr_woxc.feather'\n",
    "filename = 'data_7x7_eqk_neg_ell_smr.feather'\n",
    "file = pd.read_feather(filename)\n",
    "print(f'Shape:\\t{file.shape}')\n",
    "file = file[(file.iloc[:, 0] > -0.051) & (file.iloc[:, 0] < -0.049)]\n",
    "\n",
    "debug = False\n",
    "if not debug:\n",
    "    features = file.iloc[:, 1:]\n",
    "    labels = file.iloc[:, 0]\n",
    "    dataset = file\n",
    "else:\n",
    "    pt_x = file.iloc[:, 0]\n",
    "    pt_y = file.iloc[:, 1]\n",
    "    e = file.iloc[:, 2]\n",
    "    r = file.iloc[:, 3]\n",
    "    labels = file.iloc[:, 4]\n",
    "    features = file.iloc[:, 5:]\n",
    "print([int(features.shape[0]), int(np.sqrt(features.shape[0])), int(np.sqrt(features.shape[1]))])\n",
    "print(f'max:\\t{np.round(max(labels),3)},\\tmin:\\t{np.round(min(labels),3)}')\n",
    "\n",
    "st_sz = [int(np.sqrt(features.shape[1])), int(np.sqrt(features.shape[1]))]\n",
    "\n",
    "parameters = {'stencil_size': st_sz, 'angle': False}\n",
    "\n",
    "features_plt = np.reshape(features.values, (int(features.shape[0]), int(np.sqrt(features.shape[1])), int(np.sqrt(features.shape[1]))))\n",
    "\n",
    "predictions_dg = get_predictions(features)\n",
    "pd.Series(predictions_dg).hist(bins=50)\n",
    "# plot_vofs(features, labels.values, 24, per_row = 7)\n",
    "plot_vofs(features_plt, 10, labels=labels.values, per_row = 5, size=0.5)\n"
   ]
  },
  {
   "cell_type": "code",
   "execution_count": 168,
   "metadata": {},
   "outputs": [
    {
     "name": "stdout",
     "output_type": "stream",
     "text": [
      "param_str:\n",
      "_mlp_1000_100-80_7x7_eqk_0.0001_128_relu_neg_nag_nrt_all_smr_nhc\n"
     ]
    }
   ],
   "source": [
    "predictions = get_predictions(features)\n",
    "idx = 6\n",
    "# print(np.reshape(features.iloc[idx,:].values, (7, 7)))\n",
    "# print(predictions[idx])\n",
    "# print(labels[idx])"
   ]
  },
  {
   "cell_type": "code",
   "execution_count": 169,
   "metadata": {
    "scrolled": false
   },
   "outputs": [
    {
     "name": "stdout",
     "output_type": "stream",
     "text": [
      "(19979, 49)\n",
      "\n"
     ]
    },
    {
     "data": {
      "image/png": "[encoded data removed]",
      "text/plain": [
       "<Figure size 2250x900 with 10 Axes>"
      ]
     },
     "metadata": {},
     "output_type": "display_data"
    }
   ],
   "source": [
    "folder = 'output_all'\n",
    "vector_c = pd.read_csv(os.path.join('/'+basepath, 'data', 'fortran_test', folder, 'output_c.txt'), skiprows=1, dtype=np.float).values\n",
    "vector_last = pd.read_csv(os.path.join('/'+basepath, 'data', 'fortran_test', folder, 'output_last.txt'), skiprows=1, dtype=np.float).values\n",
    "vector_last = np.reshape(vector_last, (vector_last.shape[0],))\n",
    "vector_cm = pd.read_csv(os.path.join('/'+basepath, 'data', 'fortran_test', folder, 'output_cm.txt'), skiprows=1, dtype=np.float).values\n",
    "\n",
    "'''\n",
    "idx = list(range(40, 50))\n",
    "vector_c = vector_c[idx]\n",
    "vector_cm = vector_cm[idx]\n",
    "vector_last = vector_last[idx]\n",
    "# '''\n",
    "\n",
    "# '''\n",
    "# Get random values\n",
    "np.random.seed(42)\n",
    "indices = np.random.permutation(vector_c.shape[0])\n",
    "vector_c = vector_c[indices]\n",
    "vector_cm = vector_cm[indices]\n",
    "vector_last = vector_last[indices]\n",
    "#'''\n",
    "print(vector_c.shape)\n",
    "array_c = np.reshape(vector_c, (vector_c.shape[0],7,7))\n",
    "plot_vofs(array_c, 10, labels=vector_last, per_row=5)"
   ]
  },
  {
   "cell_type": "code",
   "execution_count": 170,
   "metadata": {},
   "outputs": [
    {
     "name": "stdout",
     "output_type": "stream",
     "text": [
      "(19979, 49)\n",
      "\n"
     ]
    },
    {
     "data": {
      "image/png": "[encoded data removed]",
      "text/plain": [
       "<Figure size 2250x900 with 10 Axes>"
      ]
     },
     "metadata": {},
     "output_type": "display_data"
    }
   ],
   "source": [
    "print(vector_cm.shape)\n",
    "array_cm = np.reshape(vector_cm, (vector_cm.shape[0],7,7))\n",
    "plot_vofs(array_cm, 10, labels=vector_last, per_row=5)"
   ]
  },
  {
   "cell_type": "code",
   "execution_count": 171,
   "metadata": {},
   "outputs": [
    {
     "name": "stdout",
     "output_type": "stream",
     "text": [
      "param_str:\n",
      "_mlp_1000_100-80_7x7_eqk_0.0001_128_relu_neg_nag_nrt_all_smr_nhc\n",
      "[[1.         1.         1.         1.         1.         1.         1.        ]\n",
      " [0.9625     0.98416667 0.99916667 1.         1.         1.         1.        ]\n",
      " [0.53833333 0.75166666 0.90666667 0.945      0.96       0.97166667 0.98083333]\n",
      " [0.04583333 0.08       0.21166667 0.3725     0.51416667 0.63083333 0.72333333]\n",
      " [0.         0.         0.0125     0.02916667 0.04333333 0.055      0.06416667]\n",
      " [0.         0.         0.         0.         0.         0.         0.        ]\n",
      " [0.         0.         0.         0.         0.         0.         0.        ]]\n",
      "-0.113303326\n",
      "-0.09613271312619177\n"
     ]
    },
    {
     "data": {
      "text/plain": [
       "<matplotlib.axes._subplots.AxesSubplot at 0x1552defd0>"
      ]
     },
     "execution_count": 171,
     "metadata": {},
     "output_type": "execute_result"
    },
    {
     "data": {
      "image/png": "[encoded data removed]",
      "text/plain": [
       "<Figure size 432x288 with 1 Axes>"
      ]
     },
     "metadata": {
      "needs_background": "light"
     },
     "output_type": "display_data"
    }
   ],
   "source": [
    "fortran_predictions = get_predictions(vector_c)\n",
    "#idx = list(range(1,10))\n",
    "idx = 9\n",
    "#print(np.reshape(vector[idx,:], (vector[idx,:].shape[0], 7, 7)))\n",
    "print(np.reshape(vector_c[idx,:], (7, 7)))\n",
    "print(fortran_predictions[idx])\n",
    "print(vector_last[idx])\n",
    "\n",
    "pd.Series(fortran_predictions).hist(bins=50)\n",
    "pd.Series(vector_last).hist(bins=50, alpha=0.5)\n"
   ]
  },
  {
   "cell_type": "code",
   "execution_count": 174,
   "metadata": {
    "scrolled": false
   },
   "outputs": [
    {
     "name": "stdout",
     "output_type": "stream",
     "text": [
      "param_str:\n",
      "_mlp_1000_100-80_7x7_eqk_0.0001_128_relu_neg_nag_nrt_all_smr_nhc\n",
      "[-0.05379216 -0.00626075 -0.05101523 -0.0325707  -0.06531501 -0.05390514 -0.04808505 -0.04418103 -0.05976703]\n",
      "[-0.05379215 -0.00626064 -0.05101514 -0.03257069 -0.06531513 -0.05390514 -0.04808509 -0.04418106 -0.05976713]\n"
     ]
    },
    {
     "data": {
      "text/plain": [
       "<matplotlib.axes._subplots.AxesSubplot at 0x15822de50>"
      ]
     },
     "execution_count": 174,
     "metadata": {},
     "output_type": "execute_result"
    },
    {
     "data": {
      "image/png": "[encoded data removed]",
      "text/plain": [
       "<Figure size 432x288 with 1 Axes>"
      ]
     },
     "metadata": {
      "needs_background": "light"
     },
     "output_type": "display_data"
    }
   ],
   "source": [
    "fortran_predictions = get_predictions(vector_cm)\n",
    "idx = list(range(0,9))\n",
    "#idx = 5\n",
    "#print(np.reshape(vector_cm[idx,:], (vector_cm[idx,:].shape[0], 7, 7)))\n",
    "#print(np.reshape(vector_cm[idx,:], (7, 7)))\n",
    "print(fortran_predictions[idx])\n",
    "print(vector_last[idx])\n",
    "\n",
    "roud = 3\n",
    "pd.Series(np.round(fortran_predictions, roud)).hist(bins=38)\n",
    "pd.Series(np.round(vector_last, roud)).hist(bins=38, alpha=0.5)\n",
    "pd.Series(predictions_dg).hist(bins=50)"
   ]
  },
  {
   "cell_type": "code",
   "execution_count": 65,
   "metadata": {},
   "outputs": [
    {
     "data": {
      "text/plain": [
       "array([[0., 0., 0., 0., 0., 0., 0.],\n",
       "       [0., 0., 0., 0., 0., 0., 0.],\n",
       "       [0., 0., 0., 0., 0., 0., 0.],\n",
       "       [0., 0., 0., 0., 0., 0., 0.],\n",
       "       [0., 0., 0., 0., 0., 0., 0.],\n",
       "       [0., 0., 0., 0., 0., 0., 0.],\n",
       "       [0., 0., 0., 0., 0., 0., 0.]])"
      ]
     },
     "execution_count": 65,
     "metadata": {},
     "output_type": "execute_result"
    }
   ],
   "source": [
    "np.reshape(vector_cm[1,:] - vector_c[1,:], (7, 7))"
   ]
  },
  {
   "cell_type": "code",
   "execution_count": null,
   "metadata": {},
   "outputs": [],
   "source": [
    "#filename = 'data_5x5_eqk_neg_ellre.feather'\n",
    "filename = 'data_5x5_eqk_neg_cir_nsm_woxc.feather'\n",
    "file = pd.read_feather(filename)\n",
    "print(f'Shape:\\t{file.shape}')\n",
    "file = file[(file.iloc[:, 0] > 0.424) & (file.iloc[:, 0] < 0.425)]\n",
    "\n",
    "debug = False\n",
    "if not debug:\n",
    "    features = file.iloc[:, 1:]\n",
    "    labels = file.iloc[:, 0]\n",
    "    dataset = file\n",
    "else:\n",
    "    pt_x = file.iloc[:, 0]\n",
    "    pt_y = file.iloc[:, 1]\n",
    "    e = file.iloc[:, 2]\n",
    "    r = file.iloc[:, 3]\n",
    "    labels = file.iloc[:, 4]\n",
    "    features = file.iloc[:, 5:]\n",
    "print([int(features.shape[0]), int(np.sqrt(features.shape[0])), int(np.sqrt(features.shape[1]))])\n",
    "print(f'max:\\t{np.round(max(labels),3)},\\tmin:\\t{np.round(min(labels),3)}')\n",
    "\n",
    "st_sz = [int(np.sqrt(features.shape[1])), int(np.sqrt(features.shape[1]))]\n",
    "\n",
    "parameters = {'stencil_size': st_sz, 'angle': False}\n",
    "\n",
    "features = np.reshape(features.values, (int(features.shape[0]), int(np.sqrt(features.shape[1])), int(np.sqrt(features.shape[1]))))\n",
    "\n",
    "# plot_vofs(features, labels.values, 24, per_row = 7)\n",
    "plot_vofs(features, 4, labels=labels.values, per_row = 2, size=0.5)"
   ]
  },
  {
   "cell_type": "code",
   "execution_count": null,
   "metadata": {},
   "outputs": [],
   "source": [
    "from sklearn.pipeline import Pipeline\n",
    "\n",
    "reshape = False\n",
    "\n",
    "# dataset = dataset[(dataset.iloc[:, 0] > 0.42) & (dataset.iloc[:, 0] < 0.43)]\n",
    "\n",
    "print(dataset.shape)\n",
    "\n",
    "data_pipeline = Pipeline([\n",
    "    ('transform', TransformData(parameters=parameters, reshape=reshape)),\n",
    "    ('findgradient', FindGradient(parameters=parameters)),\n",
    "    ('findkappahf', HF(parameters=parameters)),\n",
    "])\n",
    "# Execute pipeline\n",
    "[pip_labels, pip_features, kappa] = data_pipeline.fit_transform(dataset)\n",
    "pip_labels = pip_labels\n",
    "pip_features = np.reshape(pip_features, (int(pip_features.shape[0]), int(np.sqrt(pip_features.shape[1])), int(np.sqrt(pip_features.shape[1]))))\n",
    "kappa = kappa"
   ]
  },
  {
   "cell_type": "code",
   "execution_count": null,
   "metadata": {},
   "outputs": [],
   "source": [
    "###### LIMITS ######\n",
    "upper_limit = 0.43\n",
    "lower_limit = 0.42"
   ]
  },
  {
   "cell_type": "code",
   "execution_count": null,
   "metadata": {},
   "outputs": [],
   "source": [
    "fig, ax = create_plot(labels, kappa, color='deeppink', parameters=parameters)\n",
    "ax.plot([upper_limit, upper_limit], [0.2, 0.5], color='gray')\n",
    "ax.plot([lower_limit, lower_limit], [0.2, 0.5], color='gray')\n",
    "plt.show()"
   ]
  },
  {
   "cell_type": "code",
   "execution_count": null,
   "metadata": {},
   "outputs": [],
   "source": [
    "indices = np.nonzero((pip_labels > lower_limit) & (pip_labels < upper_limit))\n",
    "pip_labels = np.reshape(pip_labels, (pip_labels.shape[0], 1))\n",
    "kappa = kappa[indices]\n",
    "pip_features = pip_features[indices[0], :, :]\n",
    "pip_labels = pip_labels[indices]\n",
    "\n",
    "pip_labels = np.reshape(pip_labels, (pip_labels.shape[0], 1))\n",
    "kappa = np.reshape(kappa, (kappa.shape[0], 1))\n",
    "#pip_features = np.reshape(pip_features, (pip_features.shape[0], pip_features.shape[1]**2))"
   ]
  },
  {
   "cell_type": "code",
   "execution_count": null,
   "metadata": {
    "scrolled": false
   },
   "outputs": [],
   "source": [
    "indices = np.nonzero(kappa < 0.3)[0]\n",
    "f = pip_features[indices, :, :]\n",
    "l = pip_labels[indices, :]\n",
    "k = kappa[indices, :]\n",
    "plot_vofs(f, l, 5, hf=k)"
   ]
  },
  {
   "cell_type": "code",
   "execution_count": null,
   "metadata": {},
   "outputs": [],
   "source": [
    "indices = np.nonzero((kappa < 0.4) & (kappa > 0.3))[0]\n",
    "f = pip_features[indices, :, :]\n",
    "l = pip_labels[indices, :]\n",
    "k = kappa[indices, :]\n",
    "plot_vofs(f, l, 5, hf=k)"
   ]
  },
  {
   "cell_type": "code",
   "execution_count": null,
   "metadata": {},
   "outputs": [],
   "source": [
    "indices = np.nonzero((kappa < 0.6) & (kappa > 0.4))[0]\n",
    "f = pip_features[indices, :, :]\n",
    "l = pip_labels[indices, :]\n",
    "k = kappa[indices, :]\n",
    "plot_vofs(f, l, 5, hf=k)"
   ]
  },
  {
   "cell_type": "code",
   "execution_count": null,
   "metadata": {},
   "outputs": [],
   "source": [
    "l = np.reshape(pip_labels, (pip_labels.shape[0],))\n",
    "create_plot(l, kappa, color='deeppink', parameters=parameters, marker='o', size = 30, axis = 'notequal')\n",
    "plt.show()\n",
    "\n",
    "\n",
    "'''\n",
    "Hier die Daten an den Graphen bringen, also Beispiele von oben mit 5x5 stencils\n",
    "'''"
   ]
  },
  {
   "cell_type": "code",
   "execution_count": null,
   "metadata": {},
   "outputs": [],
   "source": [
    "labels.hist(bins=int(2/0.004), figsize=(15,10))"
   ]
  },
  {
   "cell_type": "code",
   "execution_count": null,
   "metadata": {},
   "outputs": [],
   "source": [
    "file.iloc[:, int(file.shape[1]/2)].nunique()"
   ]
  },
  {
   "cell_type": "code",
   "execution_count": null,
   "metadata": {},
   "outputs": [],
   "source": [
    "file.iloc[:, int(file.shape[1]/2)].hist(bins=1023, figsize=(15,10))"
   ]
  },
  {
   "cell_type": "markdown",
   "metadata": {},
   "source": [
    "Die Spikes sind etwas seltsam, hängen auch von der Wahl der Auflösung des Histogramms ab."
   ]
  },
  {
   "cell_type": "code",
   "execution_count": null,
   "metadata": {},
   "outputs": [],
   "source": [
    "sum = file.sum(axis=1)\n",
    "sum.nunique()"
   ]
  },
  {
   "cell_type": "code",
   "execution_count": null,
   "metadata": {},
   "outputs": [],
   "source": [
    "sum.hist(bins=500, figsize=(15, 10))"
   ]
  },
  {
   "cell_type": "code",
   "execution_count": null,
   "metadata": {},
   "outputs": [],
   "source": []
  }
 ],
 "metadata": {
  "kernelspec": {
   "display_name": "Python 3",
   "language": "python",
   "name": "python3"
  },
  "language_info": {
   "codemirror_mode": {
    "name": "ipython",
    "version": 3
   },
   "file_extension": ".py",
   "mimetype": "text/x-python",
   "name": "python",
   "nbconvert_exporter": "python",
   "pygments_lexer": "ipython3",
   "version": "3.7.7"
  }
 },
 "nbformat": 4,
 "nbformat_minor": 2
}
